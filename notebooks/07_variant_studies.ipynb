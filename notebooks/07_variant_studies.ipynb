{
 "cells": [
  {
   "cell_type": "markdown",
   "id": "b15dcaf1-60fa-472d-9287-8940933e7d6d",
   "metadata": {},
   "source": [
    "# Studies about other variants\n",
    "\n",
    "# Contents\n",
    "1. [Notebook setup](#setup)\n",
    "2. [Baseline: Authors](#authors)"
   ]
  },
  {
   "cell_type": "markdown",
   "id": "869e063e-0907-4e9d-a153-8068f21edd78",
   "metadata": {
    "tags": []
   },
   "source": [
    "## 1. Notebook setup <a name=\"setup\"></a>"
   ]
  },
  {
   "cell_type": "code",
   "execution_count": 1,
   "id": "4540a7b7-1db9-4ea7-b210-3302a4059622",
   "metadata": {},
   "outputs": [
    {
     "name": "stdout",
     "output_type": "stream",
     "text": [
      "This folder: C:\\Users\\muell\\thesis_main\\thesis_code\\notebooks - GitHub\n",
      "Project folder: C:\\Users\\muell\\thesis_main\\thesis_code\n",
      "\n"
     ]
    }
   ],
   "source": [
    "# Install required packages.\n",
    "# !pip install requirements.txt\n",
    "\n",
    "# Change directory to main project folder.\n",
    "import os\n",
    "print(f'This folder: {os.getcwd()}')\n",
    "os.chdir(\"..\")\n",
    "print(f'Project folder: {os.getcwd()}\\n')\n",
    "\n",
    "# Import packages.\n",
    "import routing\n",
    "import models\n",
    "import numpy as np\n",
    "import pandas as pd\n",
    "import matplotlib.pyplot as plt\n",
    "import dill\n",
    "import pickle\n",
    "from sklearn.linear_model import LinearRegression\n",
    "from sklearn.model_selection import cross_val_score, KFold"
   ]
  },
  {
   "cell_type": "code",
   "execution_count": 2,
   "id": "c84dea1e-d38c-4bb0-b5d6-b782a0d7cdd3",
   "metadata": {},
   "outputs": [
    {
     "name": "stdout",
     "output_type": "stream",
     "text": [
      "(80000, 43) (80000,)\n"
     ]
    }
   ],
   "source": [
    "# Load training data\n",
    "\n",
    "X_train = pd.read_pickle('data/generated_final_pickle/df_features_train.pickle')\n",
    "y_train = X_train.pop('distance')\n",
    "print(X_train.shape, y_train.shape)"
   ]
  },
  {
   "cell_type": "markdown",
   "id": "b440be72-27d5-4d29-8182-5f9202e15ea0",
   "metadata": {
    "tags": []
   },
   "source": [
    "## 2. Baseline: Authors <a name=\"authors\"></a>"
   ]
  },
  {
   "cell_type": "markdown",
   "id": "2725fc73-94b5-463a-958d-067f76b73925",
   "metadata": {
    "tags": []
   },
   "source": [
    "### Beardwood (1959) - TSP"
   ]
  },
  {
   "cell_type": "code",
   "execution_count": 3,
   "id": "fb192934-ce6e-4a2b-a42e-c8f164344d1f",
   "metadata": {},
   "outputs": [
    {
     "name": "stdout",
     "output_type": "stream",
     "text": [
      "\n",
      "reg.intercept_ = 0.0\n",
      "reg.coef_ = [1.84586053]\n",
      "\n",
      "RMSE (mean, std): 4399.789 (43.313)\n"
     ]
    }
   ],
   "source": [
    "# Beardwood formula + Stein TSP: c*sqrt(n*A)\n",
    "    # c = constant = 0.75 (Stein, 1978)\n",
    "    # n = number of customers\n",
    "    # A = service area\n",
    "\n",
    "# get features\n",
    "X_train_beardwood = np.sqrt(X_train['NumCust']) * np.array(X_train['AreaRoot'])\n",
    "X_train_beardwood = np.array(X_train_beardwood).reshape(-1, 1)\n",
    "\n",
    "# fit the model\n",
    "reg_beardwood = LinearRegression(fit_intercept=False)\n",
    "reg_beardwood.fit(X_train_beardwood, y_train)\n",
    "\n",
    "# print coefficients\n",
    "print('\\nreg.intercept_ =', reg_beardwood.intercept_)\n",
    "print('reg.coef_ =', reg_beardwood.coef_)\n",
    "\n",
    "# save model\n",
    "# with open('models/baseline_beardwood.pkl', 'wb') as f:\n",
    "#     pickle.dump(reg_beardwood, f)\n",
    "    \n",
    "# cross validation\n",
    "scores_beardwood = abs(cross_val_score(\n",
    "    reg_beardwood, X_train_beardwood, y_train, \n",
    "    scoring='neg_root_mean_squared_error', \n",
    "    cv=KFold(n_splits=5), verbose=0, n_jobs=5))\n",
    "print(f'\\nRMSE (mean, std): %.3f (%.3f)' % (scores_beardwood.mean(), scores_beardwood.std()))"
   ]
  },
  {
   "cell_type": "markdown",
   "id": "4e2a6c70-a3e5-45b6-b936-24fe48c8c8fb",
   "metadata": {
    "tags": []
   },
   "source": [
    "### Daganzo (1984) - CVRP"
   ]
  },
  {
   "cell_type": "code",
   "execution_count": 4,
   "id": "035339e0-965a-40be-a2f5-6bbe4a280927",
   "metadata": {},
   "outputs": [
    {
     "name": "stdout",
     "output_type": "stream",
     "text": [
      "\n",
      "reg.intercept_ = 0.0\n",
      "reg.coef_ = [1.82774546 1.21162476]\n",
      "\n",
      "RMSE (mean, std): 1959.422 (28.347)\n"
     ]
    }
   ],
   "source": [
    "# Daganzo CVRP: 2*r*n/Q + 0.57*np.sqrt(n*A)\n",
    "    # n=num customers\n",
    "    # A=area\n",
    "    # r=avg linehaul distance (depot-customer)\n",
    "    # Q=max num customers per vehicle\n",
    "\n",
    "# compute features\n",
    "X_train_daganzo = {}\n",
    "X_train_daganzo['var1'] = X_train['DepCustAvg'] * X_train['AreaRoot'] * X_train['NumCust'] / (X_train['CapRatio'] * X_train['NumCust'])\n",
    "X_train_daganzo['var2'] = np.sqrt(X_train['NumCust']) * X_train['AreaRoot']\n",
    "X_train_daganzo = pd.DataFrame(X_train_daganzo) \n",
    "\n",
    "# fit the model\n",
    "reg_daganzo = LinearRegression(fit_intercept=False)\n",
    "reg_daganzo.fit(X_train_daganzo, y_train)\n",
    "\n",
    "# print coefficients\n",
    "print('\\nreg.intercept_ =', reg_daganzo.intercept_)\n",
    "print('reg.coef_ =', reg_daganzo.coef_)\n",
    "\n",
    "# save model\n",
    "# with open('models/baseline_daganzo.pkl', 'wb') as f:\n",
    "#     pickle.dump(reg_daganzo, f)\n",
    "\n",
    "# cross validation\n",
    "scores_daganzo = abs(cross_val_score(\n",
    "    reg_daganzo, X_train_daganzo, y_train, \n",
    "    scoring='neg_root_mean_squared_error', \n",
    "    cv=KFold(n_splits=5), verbose=0, n_jobs=5))\n",
    "print(f'\\nRMSE (mean, std): %.3f (%.3f)' % (scores_daganzo.mean(), scores_daganzo.std()))"
   ]
  },
  {
   "cell_type": "code",
   "execution_count": 5,
   "id": "83168e1b-2a6c-41c9-8c45-d97a5c687738",
   "metadata": {},
   "outputs": [
    {
     "data": {
      "image/png": "[encoded data removed]",
      "text/plain": [
       "<Figure size 432x288 with 1 Axes>"
      ]
     },
     "metadata": {
      "needs_background": "light"
     },
     "output_type": "display_data"
    }
   ],
   "source": [
    "plt.boxplot([scores_beardwood, scores_daganzo], labels=['Beardwood', 'Daganzo'])\n",
    "plt.show()"
   ]
  },
  {
   "cell_type": "code",
   "execution_count": null,
   "id": "435f4c80-6e3c-45b7-9a4b-bad4a25376cb",
   "metadata": {},
   "outputs": [],
   "source": []
  }
 ],
 "metadata": {
  "kernelspec": {
   "display_name": "Python 3 (ipykernel)",
   "language": "python",
   "name": "python3"
  },
  "language_info": {
   "codemirror_mode": {
    "name": "ipython",
    "version": 3
   },
   "file_extension": ".py",
   "mimetype": "text/x-python",
   "name": "python",
   "nbconvert_exporter": "python",
   "pygments_lexer": "ipython3",
   "version": "3.9.7"
  }
 },
 "nbformat": 4,
 "nbformat_minor": 5
}
