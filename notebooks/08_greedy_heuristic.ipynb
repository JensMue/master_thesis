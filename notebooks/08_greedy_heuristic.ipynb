{
 "cells": [
  {
   "cell_type": "markdown",
   "id": "8785a6c4-a5cf-40ea-b574-7867c2bac7d1",
   "metadata": {},
   "source": [
    "# Greedy heuristic model\n",
    "\n",
    "## Contents:\n",
    "1. [Notebook setup](#setup)\n",
    "2. [Greedy heuristic model](#heuristic)"
   ]
  },
  {
   "cell_type": "markdown",
   "id": "7af3b68c-61b1-4e37-a20f-4b48539ff8c9",
   "metadata": {
    "tags": []
   },
   "source": [
    "## 1. Notebook setup <a name=\"setup\"></a>"
   ]
  },
  {
   "cell_type": "code",
   "execution_count": 1,
   "id": "776f6beb-ea3c-43d2-a8f1-256860a1282a",
   "metadata": {},
   "outputs": [
    {
     "name": "stdout",
     "output_type": "stream",
     "text": [
      "This folder: C:\\Users\\muell\\thesis_main\\thesis_code\\notebooks\n",
      "Project folder: C:\\Users\\muell\\thesis_main\\thesis_code\n",
      "\n"
     ]
    }
   ],
   "source": [
    "# Install required packages.\n",
    "# !pip install requirements.txt\n",
    "\n",
    "# Change directory to main project folder.\n",
    "import os\n",
    "print(f'This folder: {os.getcwd()}')\n",
    "os.chdir(\"..\")\n",
    "print(f'Project folder: {os.getcwd()}\\n')\n",
    "\n",
    "# Import packages.\n",
    "import routing\n",
    "import models\n",
    "import numpy as np\n",
    "import pandas as pd\n",
    "import matplotlib.pyplot as plt\n",
    "import pickle\n",
    "import dill\n",
    "import time"
   ]
  },
  {
   "cell_type": "code",
   "execution_count": 2,
   "id": "fe3dd217-950b-4d71-a85f-7d85d41f74c5",
   "metadata": {},
   "outputs": [],
   "source": [
    "# Load training data\n",
    "\n",
    "# No training necessary for this model"
   ]
  },
  {
   "cell_type": "markdown",
   "id": "7068953b-4dd0-4e9f-b773-0ec07c9b623e",
   "metadata": {
    "tags": []
   },
   "source": [
    "## 2. Greedy heuristic model <a name=\"heuristic\"></a>"
   ]
  },
  {
   "cell_type": "markdown",
   "id": "efb5c363-6e8b-4da4-b63f-a37612778de0",
   "metadata": {},
   "source": [
    "### Final model"
   ]
  },
  {
   "cell_type": "code",
   "execution_count": 3,
   "id": "2c130505-0a1d-4d07-b58d-f1ec58b867b7",
   "metadata": {},
   "outputs": [],
   "source": [
    "# No training necessary so we can directly define the final model."
   ]
  },
  {
   "cell_type": "code",
   "execution_count": 4,
   "id": "fde51592-7a04-4830-a924-988230975100",
   "metadata": {},
   "outputs": [],
   "source": [
    "def greedy_heuristic(X, verbose=50):\n",
    "    y_pred = []\n",
    "    t0 = time.time()\n",
    "    for i in range(X.shape[0]):\n",
    "        instance = routing.routingInstance.fromdict(X.iloc[i,:])\n",
    "        instance.solve(\n",
    "            first_solution='PATH_CHEAPEST_ARC',\n",
    "            local_search='GREEDY',\n",
    "            time_limit=1, \n",
    "            verbose=False)\n",
    "        if hasattr(instance, 'solution_distance'):\n",
    "            y_pred.append(instance.solution_distance)\n",
    "        else:\n",
    "            #y_pred.append(np.mean(y_train))\n",
    "            y_pred.append(0)\n",
    "        if (i+1) % verbose == 0:\n",
    "            print('solved:', i+1, '; time elapsed:', time.time()-t0)\n",
    "    return np.array(y_pred)"
   ]
  },
  {
   "cell_type": "code",
   "execution_count": 5,
   "id": "fd164ea4-67aa-4177-8351-acb04ef29497",
   "metadata": {},
   "outputs": [],
   "source": [
    "# save model\n",
    "\n",
    "with open('models/baseline_heuristic.dill', 'wb') as file:\n",
    "    dill.dump(greedy_heuristic, file)"
   ]
  },
  {
   "cell_type": "markdown",
   "id": "691f0d34-f735-48e9-8410-e640919f652f",
   "metadata": {},
   "source": [
    "### Training set predicitons"
   ]
  },
  {
   "cell_type": "code",
   "execution_count": 6,
   "id": "88522d8b-4d35-455d-b2e7-d1e9b76c2b75",
   "metadata": {},
   "outputs": [
    {
     "name": "stdout",
     "output_type": "stream",
     "text": [
      "(80000, 31) (80000,)\n"
     ]
    }
   ],
   "source": [
    "# Load training dataset\n",
    "\n",
    "X_train = pd.read_pickle('data/generated_final_pickle/df_instances_train.pickle')\n",
    "y_train = X_train.pop('solution_distance')\n",
    "print(X_train.shape, y_train.shape)"
   ]
  },
  {
   "cell_type": "code",
   "execution_count": 8,
   "id": "c0db73de-95ba-410a-99f0-73ac6b91d97f",
   "metadata": {},
   "outputs": [
    {
     "name": "stdout",
     "output_type": "stream",
     "text": [
      "(600, 31) (600,)\n"
     ]
    }
   ],
   "source": [
    "# Evaluate only on subset of test data due to time constraint\n",
    "\n",
    "X_train = X_train.iloc[:600,:]\n",
    "y_train = y_train.iloc[:600]\n",
    "print(X_train.shape, y_train.shape)"
   ]
  },
  {
   "cell_type": "code",
   "execution_count": 9,
   "id": "b06df372-e74e-49ad-b2e9-c7cb8af11b6f",
   "metadata": {},
   "outputs": [],
   "source": [
    "# Load the model\n",
    "\n",
    "with open('models/baseline_heuristic.dill', 'rb') as file:\n",
    "    greedy_heuristic = dill.load(file)"
   ]
  },
  {
   "cell_type": "code",
   "execution_count": 10,
   "id": "e3ce1d54-554e-4b0d-807f-047e8cf3d871",
   "metadata": {},
   "outputs": [
    {
     "name": "stdout",
     "output_type": "stream",
     "text": [
      "solved: 50 ; time elapsed: 38.599859952926636\n",
      "solved: 100 ; time elapsed: 77.28134989738464\n",
      "solved: 150 ; time elapsed: 108.67758393287659\n",
      "solved: 200 ; time elapsed: 145.90490627288818\n",
      "solved: 250 ; time elapsed: 178.79652404785156\n",
      "solved: 300 ; time elapsed: 214.71591424942017\n",
      "solved: 350 ; time elapsed: 253.64935183525085\n",
      "solved: 400 ; time elapsed: 290.8751585483551\n",
      "solved: 450 ; time elapsed: 327.2084436416626\n",
      "solved: 500 ; time elapsed: 362.9359986782074\n",
      "solved: 550 ; time elapsed: 396.82966589927673\n",
      "solved: 600 ; time elapsed: 434.81886863708496\n"
     ]
    }
   ],
   "source": [
    "# Make predictions for training set\n",
    "\n",
    "t0 = time.time()\n",
    "y_pred = greedy_heuristic(X_train)\n",
    "t1 = time.time()"
   ]
  },
  {
   "cell_type": "code",
   "execution_count": 11,
   "id": "082f12fb-339f-4bfd-90a9-c22768df9e13",
   "metadata": {},
   "outputs": [
    {
     "name": "stdout",
     "output_type": "stream",
     "text": [
      "Model performance\n",
      "--------------------------------------\n",
      "MSE: 1321945.16\n",
      "RMSE: 1149.76\n",
      "MAE: 762.98\n",
      "MAPE: 10.13%\n",
      "R2: 0.96\n",
      "\n",
      "\n"
     ]
    }
   ],
   "source": [
    "# Model evaluation\n",
    "\n",
    "models.evaluate(y_train, y_pred)"
   ]
  },
  {
   "cell_type": "markdown",
   "id": "924535e4-56f1-4de5-9ade-f5783c9a28d4",
   "metadata": {},
   "source": [
    "### Final predictions"
   ]
  },
  {
   "cell_type": "code",
   "execution_count": 6,
   "id": "7f492db3-b5bd-41f9-bb1b-729a466faf45",
   "metadata": {},
   "outputs": [],
   "source": [
    "# The final predictions for the test set with this model is carried out in this notebook.\n",
    "# The results are then imported in the final evaluation notebook.\n",
    "# This is due to long evaluation time for this model so the final evaluation notebook can run quickly.\n",
    "# Also this model uses the instances directly as input instead of the features."
   ]
  },
  {
   "cell_type": "code",
   "execution_count": 9,
   "id": "b64ae14e-c13f-40ee-97f3-924914603d1c",
   "metadata": {},
   "outputs": [
    {
     "name": "stdout",
     "output_type": "stream",
     "text": [
      "(20000, 31) (20000,)\n"
     ]
    }
   ],
   "source": [
    "# Load test dataset\n",
    "\n",
    "X_test = pd.read_pickle('data/generated_final_pickle/df_instances_test.pickle')\n",
    "y_test = X_test.pop('solution_distance')\n",
    "print(X_test.shape, y_test.shape)"
   ]
  },
  {
   "cell_type": "code",
   "execution_count": 10,
   "id": "3e48d68a-aef0-4cd7-af21-1c6da0c9f961",
   "metadata": {},
   "outputs": [
    {
     "name": "stdout",
     "output_type": "stream",
     "text": [
      "(1000, 31) (1000,)\n"
     ]
    }
   ],
   "source": [
    "# Evaluate only on subset of test data due to time constraint\n",
    "\n",
    "X_test = X_test.iloc[:1000,:]\n",
    "y_test = y_test.iloc[:1000]\n",
    "print(X_test.shape, y_test.shape)"
   ]
  },
  {
   "cell_type": "code",
   "execution_count": 11,
   "id": "9772b2dd-7971-4a85-a44c-21b459a896b9",
   "metadata": {},
   "outputs": [],
   "source": [
    "# Load the model\n",
    "\n",
    "with open('models/baseline_heuristic.dill', 'rb') as file:\n",
    "    greedy_heuristic = dill.load(file)"
   ]
  },
  {
   "cell_type": "code",
   "execution_count": 12,
   "id": "40e2c1fe-d8d6-4ecf-9383-5c8875f62dcb",
   "metadata": {},
   "outputs": [
    {
     "name": "stdout",
     "output_type": "stream",
     "text": [
      "solved: 50 ; time elapsed: 36.17597556114197\n",
      "solved: 100 ; time elapsed: 78.02622079849243\n",
      "solved: 150 ; time elapsed: 109.07624173164368\n",
      "solved: 200 ; time elapsed: 147.11110925674438\n",
      "solved: 250 ; time elapsed: 183.9694538116455\n",
      "solved: 300 ; time elapsed: 216.15520524978638\n",
      "solved: 350 ; time elapsed: 253.08581042289734\n",
      "solved: 400 ; time elapsed: 294.1789264678955\n",
      "solved: 450 ; time elapsed: 330.7056679725647\n",
      "solved: 500 ; time elapsed: 369.6020996570587\n",
      "solved: 550 ; time elapsed: 407.8505299091339\n",
      "solved: 600 ; time elapsed: 443.82842993736267\n",
      "solved: 650 ; time elapsed: 483.63860988616943\n",
      "solved: 700 ; time elapsed: 518.2905642986298\n",
      "solved: 750 ; time elapsed: 555.8518204689026\n",
      "solved: 800 ; time elapsed: 588.0446157455444\n",
      "solved: 850 ; time elapsed: 623.0814208984375\n",
      "solved: 900 ; time elapsed: 658.6945216655731\n",
      "solved: 950 ; time elapsed: 696.8740410804749\n",
      "solved: 1000 ; time elapsed: 734.1363444328308\n"
     ]
    }
   ],
   "source": [
    "# Make predictions for test set\n",
    "\n",
    "t0 = time.time()\n",
    "y_pred = greedy_heuristic(X_test)\n",
    "t1 = time.time()"
   ]
  },
  {
   "cell_type": "code",
   "execution_count": 13,
   "id": "4ff61c04-b259-42fd-ac39-84bbf27e478b",
   "metadata": {},
   "outputs": [],
   "source": [
    "# Save predictions for final evaluation notebook\n",
    "\n",
    "greedy_heuristic_result = (y_test, y_pred, t1-t0)\n",
    "# with open('models/baseline_heuristic_result.pkl', 'wb') as f:\n",
    "#     pickle.dump(greedy_heuristic_result, f)"
   ]
  },
  {
   "cell_type": "code",
   "execution_count": 14,
   "id": "2b24421b-1902-46f4-a995-bbe4349a5f0d",
   "metadata": {},
   "outputs": [
    {
     "name": "stdout",
     "output_type": "stream",
     "text": [
      "Model performance\n",
      "--------------------------------------\n",
      "MSE: 1244691.4\n",
      "RMSE: 1115.66\n",
      "MAE: 767.48\n",
      "MAPE: 10.11%\n",
      "R2: 0.96\n",
      "\n",
      "\n"
     ]
    }
   ],
   "source": [
    "# Model evaluation\n",
    "\n",
    "models.evaluate(y_test, y_pred)"
   ]
  },
  {
   "cell_type": "code",
   "execution_count": 15,
   "id": "72f3e04b-34c8-4668-8b70-e6b33c20e4ac",
   "metadata": {},
   "outputs": [
    {
     "data": {
      "image/png": "[encoded data removed]",
      "text/plain": [
       "<Figure size 864x288 with 3 Axes>"
      ]
     },
     "metadata": {
      "needs_background": "light"
     },
     "output_type": "display_data"
    }
   ],
   "source": [
    "models.plot_performance(y_test, y_pred)"
   ]
  }
 ],
 "metadata": {
  "kernelspec": {
   "display_name": "Python 3 (ipykernel)",
   "language": "python",
   "name": "python3"
  },
  "language_info": {
   "codemirror_mode": {
    "name": "ipython",
    "version": 3
   },
   "file_extension": ".py",
   "mimetype": "text/x-python",
   "name": "python",
   "nbconvert_exporter": "python",
   "pygments_lexer": "ipython3",
   "version": "3.9.7"
  }
 },
 "nbformat": 4,
 "nbformat_minor": 5
}
