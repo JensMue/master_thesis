{
 "cells": [
  {
   "cell_type": "markdown",
   "id": "c7d80e3b-9859-47c6-a2ce-16a1752296ad",
   "metadata": {},
   "source": [
    "# Neural networks\n",
    "\n",
    "## Contents in this notebook:\n",
    "1. [Notebook setup](#setup)\n",
    "2. [Normalization layer](#norm)\n",
    "3. [Hyperparameter tuning](#hp)\n",
    "3. [Train model](#train)"
   ]
  },
  {
   "cell_type": "markdown",
   "id": "3589f000-626a-4ae3-9d27-92c1a4480d99",
   "metadata": {
    "tags": []
   },
   "source": [
    "## 1. Notebook setup <a name=\"setup\"></a>"
   ]
  },
  {
   "cell_type": "code",
   "execution_count": 1,
   "id": "29c89542-41ce-4a70-9730-84b0c8a1ccab",
   "metadata": {},
   "outputs": [
    {
     "name": "stdout",
     "output_type": "stream",
     "text": [
      "This folder: C:\\Users\\muell\\thesis_main\\thesis_code\\notebooks\n",
      "Project folder: C:\\Users\\muell\\thesis_main\\thesis_code\n",
      "\n",
      "2.7.1\n"
     ]
    }
   ],
   "source": [
    "# Install required packages.\n",
    "# !pip install requirements.txt\n",
    "\n",
    "# Change directory to main project folder.\n",
    "import os\n",
    "print(f'This folder: {os.getcwd()}')\n",
    "os.chdir(\"..\")\n",
    "print(f'Project folder: {os.getcwd()}\\n')\n",
    "\n",
    "# Import packages.\n",
    "import routing\n",
    "import models\n",
    "import numpy as np\n",
    "import pandas as pd\n",
    "import matplotlib.pyplot as plt\n",
    "import keras_tuner as kt\n",
    "import tensorflow as tf\n",
    "from tensorflow import keras\n",
    "from tensorflow.keras import layers\n",
    "print(tf.__version__)"
   ]
  },
  {
   "cell_type": "code",
   "execution_count": 2,
   "id": "a59ebe66-eeea-4629-8a83-ef1986ee2bf0",
   "metadata": {},
   "outputs": [
    {
     "name": "stdout",
     "output_type": "stream",
     "text": [
      "(80000, 43) (80000,)\n"
     ]
    }
   ],
   "source": [
    "# Load training data\n",
    "\n",
    "X_train = pd.read_pickle('data/generated_final_pickle/df_features_train.pickle')\n",
    "y_train = X_train.pop('distance')\n",
    "print(X_train.shape, y_train.shape)"
   ]
  },
  {
   "cell_type": "code",
   "execution_count": 3,
   "id": "4b6c72a7-e923-4846-ac77-fc4e700e9b2c",
   "metadata": {},
   "outputs": [],
   "source": [
    "def plot_loss(history, ylim=None):\n",
    "    \"\"\"Plots the training and validation loss.\"\"\"\n",
    "    plt.plot(history.history['loss'], label='loss')\n",
    "    plt.plot(history.history['val_loss'], label='val_loss')\n",
    "    if ylim:\n",
    "        plt.ylim([0, ylim])\n",
    "    plt.xlabel('Epoch')\n",
    "    plt.ylabel('Error')\n",
    "    plt.legend()\n",
    "    plt.grid(True)"
   ]
  },
  {
   "cell_type": "markdown",
   "id": "0fd342fe-3ee0-4938-98f3-ca6e032154fd",
   "metadata": {
    "tags": []
   },
   "source": [
    "## 2. Normalization layer <a name=\"norm\"></a>"
   ]
  },
  {
   "cell_type": "code",
   "execution_count": 6,
   "id": "9a34c5eb-f45f-4cef-a447-9049eefa87c2",
   "metadata": {
    "tags": []
   },
   "outputs": [],
   "source": [
    "# check if normalization is necessary (Yes vary different values, so slow convergence otherwise)\n",
    "#X_train.describe().transpose()[['mean', 'std']]"
   ]
  },
  {
   "cell_type": "code",
   "execution_count": 7,
   "id": "f83677ba-941f-4efb-b823-23c38c6c5927",
   "metadata": {},
   "outputs": [
    {
     "name": "stdout",
     "output_type": "stream",
     "text": [
      "[[5.9480198e+01 5.4176587e+02 2.1642188e+03 1.6218473e+00 4.3608931e-01\n",
      "  4.4843009e-01 1.7860065e-01 3.2225946e-01 1.2018441e+00 7.6551199e-02\n",
      "  6.5177357e-01 2.5920025e-01 1.4885765e-01 6.5643066e-01 1.1377072e+00\n",
      "  8.2608378e-01 6.0028362e-01 3.3129346e-01 1.2041565e-02 5.7752073e-01\n",
      "  1.4954176e+00 4.1272888e-01 4.3921933e+00 8.7102786e-02 4.1021459e-02\n",
      "  3.6058377e-02 8.0570020e-02 1.7390339e-01 4.6991272e+00 4.3645412e-02\n",
      "  1.2746317e-02 2.3084512e-02 4.3331474e-02 6.5763660e-02 7.4963242e-01\n",
      "  4.7634050e-01 2.6871505e-01 1.9754811e-01 4.1149381e-01 4.8561433e-01\n",
      "  2.0350088e-01 8.9938439e-02 8.7512821e-01]]\n"
     ]
    }
   ],
   "source": [
    "# create normalization layer\n",
    "normalizer = tf.keras.layers.Normalization(axis=-1)\n",
    "normalizer.adapt(np.array(X_train))\n",
    "print(normalizer.mean.numpy())"
   ]
  },
  {
   "cell_type": "code",
   "execution_count": 8,
   "id": "9e3a4d38-f14e-4cc7-b560-e53a7965c974",
   "metadata": {},
   "outputs": [
    {
     "name": "stdout",
     "output_type": "stream",
     "text": [
      "First example: [[  78.    830.72 3272.02    1.84    0.61    0.4     0.19    0.29    1.11\n",
      "     0.05    0.71    0.26    0.07    0.77    1.31    0.88    0.54    0.3\n",
      "     0.      0.51    1.46    0.78    1.28    0.02    0.01    0.      0.02\n",
      "     0.03    3.57    0.06    0.      0.06    0.06    0.06    0.86    0.57\n",
      "     0.18    0.42    0.51    0.45    0.24    0.04    0.87]]\n",
      "\n",
      "Normalized: [[ 0.8   1.39  1.36  0.29  0.5  -0.53  0.19 -0.57 -0.44 -0.89  0.23  0.\n",
      "  -0.44  0.43  0.47  0.43 -0.61 -0.3  -0.94 -0.6  -0.16  1.65 -0.58 -0.64\n",
      "  -0.51 -0.47 -0.57 -0.64 -0.48  0.9  -1.01  1.43  0.89 -0.04  0.59  0.52\n",
      "  -0.85  1.25  0.36 -0.97  0.76 -0.94 -0.16]]\n"
     ]
    }
   ],
   "source": [
    "# test normalization layer\n",
    "first = np.array(X_train.iloc[:1,:])\n",
    "with np.printoptions(precision=2, suppress=True):\n",
    "    print('First example:', first)\n",
    "    print()\n",
    "    print('Normalized:', normalizer(first).numpy())"
   ]
  },
  {
   "cell_type": "markdown",
   "id": "69d0423f-51d1-43ab-a472-d6d886836002",
   "metadata": {
    "jp-MarkdownHeadingCollapsed": true,
    "tags": []
   },
   "source": [
    "## 3. Hyperparameter tuning <a name=\"hp\"></a>"
   ]
  },
  {
   "cell_type": "markdown",
   "id": "78bb6b36-bcf2-419b-9a77-2378c303ab66",
   "metadata": {
    "jp-MarkdownHeadingCollapsed": true,
    "tags": []
   },
   "source": [
    "### First cycle"
   ]
  },
  {
   "cell_type": "code",
   "execution_count": 17,
   "id": "1c3ebbd9-b7ab-466c-a281-594183b7c330",
   "metadata": {},
   "outputs": [
    {
     "name": "stdout",
     "output_type": "stream",
     "text": [
      "INFO:tensorflow:Reloading Oracle from existing project models/mlp_tuning\\cycle1\\oracle.json\n",
      "INFO:tensorflow:Reloading Tuner from models/mlp_tuning\\cycle1\\tuner0.json\n",
      "Search space summary\n",
      "Default search space size: 6\n",
      "num_layers (Int)\n",
      "{'default': None, 'conditions': [], 'min_value': 1, 'max_value': 3, 'step': 1, 'sampling': None}\n",
      "hidden_1 (Int)\n",
      "{'default': None, 'conditions': [], 'min_value': 8, 'max_value': 64, 'step': 8, 'sampling': None}\n",
      "dropout (Float)\n",
      "{'default': 0.25, 'conditions': [], 'min_value': 0.0, 'max_value': 0.5, 'step': 0.05, 'sampling': None}\n",
      "learning_rate (Float)\n",
      "{'default': 0.005, 'conditions': [], 'min_value': 0.0005, 'max_value': 0.5, 'step': None, 'sampling': 'log'}\n",
      "hidden_2 (Int)\n",
      "{'default': None, 'conditions': [], 'min_value': 8, 'max_value': 64, 'step': 8, 'sampling': None}\n",
      "hidden_3 (Int)\n",
      "{'default': None, 'conditions': [], 'min_value': 8, 'max_value': 8, 'step': 8, 'sampling': None}\n"
     ]
    }
   ],
   "source": [
    "def build_model(hp):\n",
    "    model = tf.keras.Sequential()\n",
    "    \n",
    "    # input layer\n",
    "    model.add(normalizer)\n",
    "    \n",
    "    # hidden layers\n",
    "    num_layers = hp.Int('num_layers', 1, 3)\n",
    "    if num_layers >= 1:\n",
    "        hidden_1 = hp.Int('hidden_1', 8, 64, step=8)\n",
    "        model.add(tf.keras.layers.Dense(units=hidden_1, activation='relu'))\n",
    "    if num_layers >= 2:\n",
    "        hidden_2 = hp.Int('hidden_2', 8, hidden_1, step=8)\n",
    "        model.add(tf.keras.layers.Dense(units=hidden_2, activation='relu'))\n",
    "    if num_layers >= 3:\n",
    "        hidden_3 = hp.Int('hidden_3', 8, hidden_2, step=8)\n",
    "        model.add(tf.keras.layers.Dense(units=hidden_3, activation='relu'))\n",
    "        \n",
    "    # dropout layer\n",
    "    dropout = hp.Float('dropout', min_value=0.0, max_value=0.5, default=0.25, step=0.05)\n",
    "    model.add(tf.keras.layers.Dropout(rate=dropout))\n",
    "    \n",
    "    # output layer\n",
    "    model.add(tf.keras.layers.Dense(1))\n",
    "    \n",
    "    # compile\n",
    "    learning_rate = hp.Float(\n",
    "                'learning_rate',\n",
    "                min_value=0.0005,\n",
    "                max_value=0.5,\n",
    "                sampling='LOG',\n",
    "                default=0.005)\n",
    "    model.compile(\n",
    "        optimizer=keras.optimizers.Adam(learning_rate),\n",
    "        loss='mean_squared_error', \n",
    "        metrics=['mean_squared_error']\n",
    "    )\n",
    "    #hp_learning_rate = hp.Choice('learning_rate', values=[0.1, 0.05, 0.01, 0.005, 0.001, 0.0005, 0.0001])\n",
    "    return model\n",
    "\n",
    "tuner = kt.RandomSearch(\n",
    "    build_model,\n",
    "    objective = 'val_loss',\n",
    "    max_trials = 10,\n",
    "    executions_per_trial = 1,\n",
    "    directory = 'models/mlp_tuning',\n",
    "    project_name=\"cycle1\",   \n",
    ")\n",
    "tuner.search_space_summary()"
   ]
  },
  {
   "cell_type": "code",
   "execution_count": 11,
   "id": "b68a3c14-7252-429a-837c-7ccae447f71f",
   "metadata": {},
   "outputs": [
    {
     "name": "stdout",
     "output_type": "stream",
     "text": [
      "Trial 10 Complete [00h 01m 28s]\n",
      "val_loss: 3201178.5\n",
      "\n",
      "Best val_loss So Far: 759628.0\n",
      "Total elapsed time: 00h 11m 33s\n",
      "INFO:tensorflow:Oracle triggered exit\n"
     ]
    }
   ],
   "source": [
    "stop_early = tf.keras.callbacks.EarlyStopping(monitor='val_loss', patience=5)\n",
    "tuner.search(X_train.astype(float), y_train, epochs=150, validation_split=0.25, callbacks=[stop_early])"
   ]
  },
  {
   "cell_type": "code",
   "execution_count": 12,
   "id": "5a4e19a1-722a-4a6c-b75e-0d2f7e7680b0",
   "metadata": {},
   "outputs": [
    {
     "name": "stdout",
     "output_type": "stream",
     "text": [
      "Model: \"sequential\"\n",
      "_________________________________________________________________\n",
      " Layer (type)                Output Shape              Param #   \n",
      "=================================================================\n",
      " normalization (Normalizatio  (None, 43)               87        \n",
      " n)                                                              \n",
      "                                                                 \n",
      " dense (Dense)               (None, 24)                1056      \n",
      "                                                                 \n",
      " dense_1 (Dense)             (None, 32)                800       \n",
      "                                                                 \n",
      " dense_2 (Dense)             (None, 8)                 264       \n",
      "                                                                 \n",
      " dropout (Dropout)           (None, 8)                 0         \n",
      "                                                                 \n",
      " dense_3 (Dense)             (None, 1)                 9         \n",
      "                                                                 \n",
      "=================================================================\n",
      "Total params: 2,216\n",
      "Trainable params: 2,129\n",
      "Non-trainable params: 87\n",
      "_________________________________________________________________\n"
     ]
    }
   ],
   "source": [
    "# Get the top 2 models.\n",
    "models = tuner.get_best_models(num_models=2)\n",
    "best_model = models[0]\n",
    "best_model.summary()"
   ]
  },
  {
   "cell_type": "code",
   "execution_count": 13,
   "id": "4025463b-576c-4c3e-a505-623c8a78e0a5",
   "metadata": {},
   "outputs": [
    {
     "data": {
      "text/plain": [
       "<tf.Variable 'learning_rate:0' shape=() dtype=float32, numpy=0.018711245>"
      ]
     },
     "execution_count": 13,
     "metadata": {},
     "output_type": "execute_result"
    }
   ],
   "source": [
    "best_model.optimizer.lr"
   ]
  },
  {
   "cell_type": "code",
   "execution_count": 14,
   "id": "0223ce28-cc13-4183-8237-352f1f35cb74",
   "metadata": {
    "collapsed": true,
    "jupyter": {
     "outputs_hidden": true
    },
    "tags": []
   },
   "outputs": [
    {
     "name": "stdout",
     "output_type": "stream",
     "text": [
      "Results summary\n",
      "Results in models/mlp_tuning\\cycle1\n",
      "Showing 10 best trials\n",
      "Objective(name='val_loss', direction='min')\n",
      "Trial summary\n",
      "Hyperparameters:\n",
      "num_layers: 3\n",
      "hidden_1: 24\n",
      "dropout: 0.1\n",
      "learning_rate: 0.018711244929899274\n",
      "hidden_2: 32\n",
      "hidden_3: 8\n",
      "Score: 759628.0\n",
      "Trial summary\n",
      "Hyperparameters:\n",
      "num_layers: 3\n",
      "hidden_1: 64\n",
      "dropout: 0.05\n",
      "learning_rate: 0.07230473728989745\n",
      "hidden_2: 8\n",
      "hidden_3: 8\n",
      "Score: 865842.875\n",
      "Trial summary\n",
      "Hyperparameters:\n",
      "num_layers: 2\n",
      "hidden_1: 24\n",
      "dropout: 0.25\n",
      "learning_rate: 0.0010901803326811247\n",
      "hidden_2: 32\n",
      "hidden_3: 8\n",
      "Score: 990288.875\n",
      "Trial summary\n",
      "Hyperparameters:\n",
      "num_layers: 1\n",
      "hidden_1: 24\n",
      "dropout: 0.25\n",
      "learning_rate: 0.017106562733463084\n",
      "Score: 1241902.0\n",
      "Trial summary\n",
      "Hyperparameters:\n",
      "num_layers: 3\n",
      "hidden_1: 40\n",
      "dropout: 0.15000000000000002\n",
      "learning_rate: 0.0029589526922115545\n",
      "hidden_2: 40\n",
      "hidden_3: 8\n",
      "Score: 1327503.625\n",
      "Trial summary\n",
      "Hyperparameters:\n",
      "num_layers: 1\n",
      "hidden_1: 48\n",
      "dropout: 0.25\n",
      "learning_rate: 0.2293929615124925\n",
      "hidden_2: 48\n",
      "hidden_3: 8\n",
      "Score: 1329974.0\n",
      "Trial summary\n",
      "Hyperparameters:\n",
      "num_layers: 2\n",
      "hidden_1: 32\n",
      "dropout: 0.25\n",
      "learning_rate: 0.2431678919124739\n",
      "hidden_2: 16\n",
      "hidden_3: 8\n",
      "Score: 1696890.625\n",
      "Trial summary\n",
      "Hyperparameters:\n",
      "num_layers: 2\n",
      "hidden_1: 16\n",
      "dropout: 0.35000000000000003\n",
      "learning_rate: 0.0009742921801131724\n",
      "hidden_2: 8\n",
      "hidden_3: 8\n",
      "Score: 3201178.5\n",
      "Trial summary\n",
      "Hyperparameters:\n",
      "num_layers: 2\n",
      "hidden_1: 40\n",
      "dropout: 0.5\n",
      "learning_rate: 0.34226328216568086\n",
      "hidden_2: 56\n",
      "hidden_3: 8\n",
      "Score: 3324663.0\n",
      "Trial summary\n",
      "Hyperparameters:\n",
      "num_layers: 2\n",
      "hidden_1: 16\n",
      "dropout: 0.4\n",
      "learning_rate: 0.46124990584277314\n",
      "hidden_2: 40\n",
      "hidden_3: 8\n",
      "Score: 3448555.0\n"
     ]
    }
   ],
   "source": [
    "tuner.results_summary()"
   ]
  },
  {
   "cell_type": "markdown",
   "id": "d101b3de-9f44-46af-9673-027aaff3619d",
   "metadata": {
    "jp-MarkdownHeadingCollapsed": true,
    "tags": []
   },
   "source": [
    "### Second cycle"
   ]
  },
  {
   "cell_type": "code",
   "execution_count": null,
   "id": "6f882a8d-7cef-4497-a81c-4c6cc9f3c165",
   "metadata": {},
   "outputs": [],
   "source": [
    "# search again with lower dropout and narrower learning rate, and higher minimum of nodes in fist layer"
   ]
  },
  {
   "cell_type": "code",
   "execution_count": 19,
   "id": "fd007414-b5aa-4ba8-9305-0e66ad5a542c",
   "metadata": {},
   "outputs": [
    {
     "name": "stdout",
     "output_type": "stream",
     "text": [
      "Search space summary\n",
      "Default search space size: 4\n",
      "num_layers (Int)\n",
      "{'default': None, 'conditions': [], 'min_value': 1, 'max_value': 3, 'step': 1, 'sampling': None}\n",
      "hidden_1 (Int)\n",
      "{'default': None, 'conditions': [], 'min_value': 32, 'max_value': 64, 'step': 8, 'sampling': None}\n",
      "dropout (Float)\n",
      "{'default': 0.1, 'conditions': [], 'min_value': 0.0, 'max_value': 0.2, 'step': 0.05, 'sampling': None}\n",
      "learning_rate (Float)\n",
      "{'default': 0.005, 'conditions': [], 'min_value': 0.0006, 'max_value': 0.2, 'step': None, 'sampling': 'log'}\n"
     ]
    }
   ],
   "source": [
    "def build_model(hp):\n",
    "    model = tf.keras.Sequential()\n",
    "    \n",
    "    # input layer\n",
    "    model.add(normalizer)\n",
    "    \n",
    "    # hidden layers\n",
    "    num_layers = hp.Int('num_layers', 1, 3)\n",
    "    if num_layers >= 1:\n",
    "        hidden_1 = hp.Int('hidden_1', 32, 64, step=8)\n",
    "        model.add(tf.keras.layers.Dense(units=hidden_1, activation='relu'))\n",
    "    if num_layers >= 2:\n",
    "        hidden_2 = hp.Int('hidden_2', 8, hidden_1, step=8)\n",
    "        model.add(tf.keras.layers.Dense(units=hidden_2, activation='relu'))\n",
    "    if num_layers >= 3:\n",
    "        hidden_3 = hp.Int('hidden_3', 8, hidden_2, step=8)\n",
    "        model.add(tf.keras.layers.Dense(units=hidden_3, activation='relu'))\n",
    "        \n",
    "    # dropout layer\n",
    "    dropout = hp.Float('dropout', min_value=0.0, max_value=0.2, default=0.1, step=0.05)\n",
    "    model.add(tf.keras.layers.Dropout(rate=dropout))\n",
    "    \n",
    "    # output layer\n",
    "    model.add(tf.keras.layers.Dense(1))\n",
    "    \n",
    "    # compile\n",
    "    learning_rate = hp.Float(\n",
    "                'learning_rate',\n",
    "                min_value=0.0006,\n",
    "                max_value=0.2,\n",
    "                sampling='LOG',\n",
    "                default=0.005)\n",
    "    model.compile(\n",
    "        optimizer=keras.optimizers.Adam(learning_rate),\n",
    "        loss='mean_squared_error', \n",
    "        metrics=['mean_squared_error']\n",
    "    )\n",
    "    #hp_learning_rate = hp.Choice('learning_rate', values=[0.1, 0.05, 0.01, 0.005, 0.001, 0.0005, 0.0001])\n",
    "    return model\n",
    "\n",
    "tuner = kt.RandomSearch(\n",
    "    build_model,\n",
    "    objective = 'val_loss',\n",
    "    max_trials = 10,\n",
    "    executions_per_trial = 1,\n",
    "    directory = 'models/mlp_tuning',\n",
    "    project_name=\"cycle2\",   \n",
    ")\n",
    "tuner.search_space_summary()"
   ]
  },
  {
   "cell_type": "code",
   "execution_count": 20,
   "id": "9bc1969a-712d-4d62-8315-b282278b6396",
   "metadata": {},
   "outputs": [
    {
     "name": "stdout",
     "output_type": "stream",
     "text": [
      "Trial 10 Complete [00h 01m 18s]\n",
      "val_loss: 722759.8125\n",
      "\n",
      "Best val_loss So Far: 722759.8125\n",
      "Total elapsed time: 00h 26m 29s\n",
      "INFO:tensorflow:Oracle triggered exit\n"
     ]
    }
   ],
   "source": [
    "stop_early = tf.keras.callbacks.EarlyStopping(monitor='val_loss', patience=5)\n",
    "tuner.search(X_train.astype(float), y_train, epochs=150, validation_split=0.25, callbacks=[stop_early])"
   ]
  },
  {
   "cell_type": "code",
   "execution_count": 21,
   "id": "79c908c3-5f40-4599-826c-e25008b02ffc",
   "metadata": {},
   "outputs": [
    {
     "name": "stdout",
     "output_type": "stream",
     "text": [
      "WARNING:tensorflow:Unresolved object in checkpoint: (root).optimizer.iter\n",
      "WARNING:tensorflow:Unresolved object in checkpoint: (root).optimizer.beta_1\n",
      "WARNING:tensorflow:Unresolved object in checkpoint: (root).optimizer.beta_2\n",
      "WARNING:tensorflow:Unresolved object in checkpoint: (root).optimizer.decay\n",
      "WARNING:tensorflow:Unresolved object in checkpoint: (root).optimizer.learning_rate\n",
      "WARNING:tensorflow:A checkpoint was restored (e.g. tf.train.Checkpoint.restore or tf.keras.Model.load_weights) but not all checkpointed values were used. See above for specific issues. Use expect_partial() on the load status object, e.g. tf.train.Checkpoint.restore(...).expect_partial(), to silence these warnings, or use assert_consumed() to make the check explicit. See https://www.tensorflow.org/guide/checkpoint#loading_mechanics for details.\n",
      "WARNING:tensorflow:Unresolved object in checkpoint: (root).optimizer.iter\n",
      "WARNING:tensorflow:A checkpoint was restored (e.g. tf.train.Checkpoint.restore or tf.keras.Model.load_weights) but not all checkpointed values were used. See above for specific issues. Use expect_partial() on the load status object, e.g. tf.train.Checkpoint.restore(...).expect_partial(), to silence these warnings, or use assert_consumed() to make the check explicit. See https://www.tensorflow.org/guide/checkpoint#loading_mechanics for details.\n",
      "Model: \"sequential\"\n",
      "_________________________________________________________________\n",
      " Layer (type)                Output Shape              Param #   \n",
      "=================================================================\n",
      " normalization (Normalizatio  (None, 43)               87        \n",
      " n)                                                              \n",
      "                                                                 \n",
      " dense (Dense)               (None, 56)                2464      \n",
      "                                                                 \n",
      " dense_1 (Dense)             (None, 16)                912       \n",
      "                                                                 \n",
      " dropout (Dropout)           (None, 16)                0         \n",
      "                                                                 \n",
      " dense_2 (Dense)             (None, 1)                 17        \n",
      "                                                                 \n",
      "=================================================================\n",
      "Total params: 3,480\n",
      "Trainable params: 3,393\n",
      "Non-trainable params: 87\n",
      "_________________________________________________________________\n"
     ]
    }
   ],
   "source": [
    "# Get the top 2 models.\n",
    "models = tuner.get_best_models(num_models=2)\n",
    "best_model = models[0]\n",
    "best_model.summary()"
   ]
  },
  {
   "cell_type": "code",
   "execution_count": 22,
   "id": "32ec2572-4a69-423a-b665-f4784ad89f79",
   "metadata": {},
   "outputs": [
    {
     "data": {
      "text/plain": [
       "<tf.Variable 'learning_rate:0' shape=() dtype=float32, numpy=0.010075742>"
      ]
     },
     "execution_count": 22,
     "metadata": {},
     "output_type": "execute_result"
    }
   ],
   "source": [
    "best_model.optimizer.lr"
   ]
  },
  {
   "cell_type": "code",
   "execution_count": 23,
   "id": "967cd9a2-6349-49d0-95e5-1a9770361043",
   "metadata": {
    "collapsed": true,
    "jupyter": {
     "outputs_hidden": true
    },
    "tags": []
   },
   "outputs": [
    {
     "name": "stdout",
     "output_type": "stream",
     "text": [
      "Results summary\n",
      "Results in models/mlp_tuning\\cycle2\n",
      "Showing 10 best trials\n",
      "Objective(name='val_loss', direction='min')\n",
      "Trial summary\n",
      "Hyperparameters:\n",
      "num_layers: 2\n",
      "hidden_1: 56\n",
      "dropout: 0.1\n",
      "learning_rate: 0.010075742588331075\n",
      "hidden_2: 16\n",
      "hidden_3: 8\n",
      "Score: 722759.8125\n",
      "Trial summary\n",
      "Hyperparameters:\n",
      "num_layers: 2\n",
      "hidden_1: 56\n",
      "dropout: 0.05\n",
      "learning_rate: 0.002621672943133397\n",
      "hidden_2: 16\n",
      "hidden_3: 8\n",
      "Score: 727945.125\n",
      "Trial summary\n",
      "Hyperparameters:\n",
      "num_layers: 2\n",
      "hidden_1: 32\n",
      "dropout: 0.15000000000000002\n",
      "learning_rate: 0.03650917155327627\n",
      "hidden_2: 8\n",
      "Score: 757519.3125\n",
      "Trial summary\n",
      "Hyperparameters:\n",
      "num_layers: 2\n",
      "hidden_1: 40\n",
      "dropout: 0.1\n",
      "learning_rate: 0.023460743772296136\n",
      "hidden_2: 24\n",
      "hidden_3: 8\n",
      "Score: 772730.4375\n",
      "Trial summary\n",
      "Hyperparameters:\n",
      "num_layers: 1\n",
      "hidden_1: 64\n",
      "dropout: 0.15000000000000002\n",
      "learning_rate: 0.0050637465425208365\n",
      "hidden_2: 8\n",
      "hidden_3: 8\n",
      "Score: 828974.875\n",
      "Trial summary\n",
      "Hyperparameters:\n",
      "num_layers: 2\n",
      "hidden_1: 48\n",
      "dropout: 0.1\n",
      "learning_rate: 0.002196849727547194\n",
      "hidden_2: 16\n",
      "hidden_3: 8\n",
      "Score: 829617.6875\n",
      "Trial summary\n",
      "Hyperparameters:\n",
      "num_layers: 1\n",
      "hidden_1: 64\n",
      "dropout: 0.05\n",
      "learning_rate: 0.19311853131921336\n",
      "Score: 925099.3125\n",
      "Trial summary\n",
      "Hyperparameters:\n",
      "num_layers: 1\n",
      "hidden_1: 40\n",
      "dropout: 0.2\n",
      "learning_rate: 0.0050140947149489865\n",
      "hidden_2: 32\n",
      "hidden_3: 8\n",
      "Score: 1061577.25\n",
      "Trial summary\n",
      "Hyperparameters:\n",
      "num_layers: 3\n",
      "hidden_1: 40\n",
      "dropout: 0.1\n",
      "learning_rate: 0.0015628256819874772\n",
      "hidden_2: 8\n",
      "hidden_3: 8\n",
      "Score: 1120322.125\n",
      "Trial summary\n",
      "Hyperparameters:\n",
      "num_layers: 1\n",
      "hidden_1: 56\n",
      "dropout: 0.15000000000000002\n",
      "learning_rate: 0.001286640455483335\n",
      "hidden_2: 24\n",
      "hidden_3: 8\n",
      "Score: 1261644.625\n"
     ]
    }
   ],
   "source": [
    "tuner.results_summary()"
   ]
  },
  {
   "cell_type": "markdown",
   "id": "495eba81-073e-4a3d-9e7c-a2f790d74746",
   "metadata": {
    "jp-MarkdownHeadingCollapsed": true,
    "tags": []
   },
   "source": [
    "### Third cycle"
   ]
  },
  {
   "cell_type": "code",
   "execution_count": null,
   "id": "b733c9ca-5a01-42d6-8bdc-ca08f79320ed",
   "metadata": {},
   "outputs": [],
   "source": [
    "# further decrease dropout and minimum two layers and narrower learning rate"
   ]
  },
  {
   "cell_type": "code",
   "execution_count": 28,
   "id": "1a568cbd-ffdc-42f9-89f0-850ba61f8658",
   "metadata": {},
   "outputs": [
    {
     "name": "stdout",
     "output_type": "stream",
     "text": [
      "Search space summary\n",
      "Default search space size: 5\n",
      "num_layers (Int)\n",
      "{'default': None, 'conditions': [], 'min_value': 2, 'max_value': 3, 'step': 1, 'sampling': None}\n",
      "hidden_1 (Int)\n",
      "{'default': None, 'conditions': [], 'min_value': 32, 'max_value': 64, 'step': 8, 'sampling': None}\n",
      "hidden_2 (Int)\n",
      "{'default': None, 'conditions': [], 'min_value': 8, 'max_value': 32, 'step': 8, 'sampling': None}\n",
      "dropout (Float)\n",
      "{'default': 0.1, 'conditions': [], 'min_value': 0.0, 'max_value': 0.1, 'step': 0.05, 'sampling': None}\n",
      "learning_rate (Float)\n",
      "{'default': 0.005, 'conditions': [], 'min_value': 0.001, 'max_value': 0.02, 'step': 0.001, 'sampling': None}\n"
     ]
    }
   ],
   "source": [
    "def build_model(hp):\n",
    "    model = tf.keras.Sequential()\n",
    "    \n",
    "    # input layer\n",
    "    model.add(normalizer)\n",
    "    \n",
    "    # hidden layers\n",
    "    num_layers = hp.Int('num_layers', 2, 3)\n",
    "    if num_layers >= 1:\n",
    "        hidden_1 = hp.Int('hidden_1', 32, 64, step=8)\n",
    "        model.add(tf.keras.layers.Dense(units=hidden_1, activation='relu'))\n",
    "    if num_layers >= 2:\n",
    "        hidden_2 = hp.Int('hidden_2', 8, hidden_1, step=8)\n",
    "        model.add(tf.keras.layers.Dense(units=hidden_2, activation='relu'))\n",
    "    if num_layers >= 3:\n",
    "        hidden_3 = hp.Int('hidden_3', 8, hidden_2, step=8)\n",
    "        model.add(tf.keras.layers.Dense(units=hidden_3, activation='relu'))\n",
    "        \n",
    "    # dropout layer\n",
    "    dropout = hp.Float('dropout', min_value=0.0, max_value=0.1, default=0.1, step=0.05)\n",
    "    model.add(tf.keras.layers.Dropout(rate=dropout))\n",
    "    \n",
    "    # output layer\n",
    "    model.add(tf.keras.layers.Dense(1))\n",
    "    \n",
    "    # compile\n",
    "    learning_rate = hp.Float(\n",
    "                'learning_rate',\n",
    "                min_value=0.001,\n",
    "                max_value=0.02,\n",
    "                step=0.001,\n",
    "                default=0.005)\n",
    "    model.compile(\n",
    "        optimizer=keras.optimizers.Adam(learning_rate),\n",
    "        loss='mean_squared_error', \n",
    "        metrics=['mean_squared_error']\n",
    "    )\n",
    "    #hp_learning_rate = hp.Choice('learning_rate', values=[0.1, 0.05, 0.01, 0.005, 0.001, 0.0005, 0.0001])\n",
    "    return model\n",
    "\n",
    "tuner = kt.RandomSearch(\n",
    "    build_model,\n",
    "    objective = 'val_loss',\n",
    "    max_trials = 10,\n",
    "    executions_per_trial = 1,\n",
    "    directory = 'models/mlp_tuning',\n",
    "    project_name=\"cycle3\",   \n",
    ")\n",
    "tuner.search_space_summary()"
   ]
  },
  {
   "cell_type": "code",
   "execution_count": 29,
   "id": "1c9a34f5-bd2c-4e6d-ba08-42d237b0babf",
   "metadata": {},
   "outputs": [
    {
     "name": "stdout",
     "output_type": "stream",
     "text": [
      "Trial 10 Complete [00h 02m 52s]\n",
      "val_loss: 554155.9375\n",
      "\n",
      "Best val_loss So Far: 500756.1875\n",
      "Total elapsed time: 00h 22m 20s\n",
      "INFO:tensorflow:Oracle triggered exit\n"
     ]
    }
   ],
   "source": [
    "stop_early = tf.keras.callbacks.EarlyStopping(monitor='val_loss', patience=8)\n",
    "tuner.search(X_train.astype(float), y_train, epochs=200, validation_split=0.25, callbacks=[stop_early])"
   ]
  },
  {
   "cell_type": "code",
   "execution_count": 30,
   "id": "0b5f003c-f686-4496-8d8e-fcdb6801a793",
   "metadata": {},
   "outputs": [
    {
     "name": "stdout",
     "output_type": "stream",
     "text": [
      "WARNING:tensorflow:Unresolved object in checkpoint: (root).optimizer.iter\n",
      "WARNING:tensorflow:Unresolved object in checkpoint: (root).optimizer.beta_1\n",
      "WARNING:tensorflow:Unresolved object in checkpoint: (root).optimizer.beta_2\n",
      "WARNING:tensorflow:Unresolved object in checkpoint: (root).optimizer.decay\n",
      "WARNING:tensorflow:Unresolved object in checkpoint: (root).optimizer.learning_rate\n",
      "WARNING:tensorflow:A checkpoint was restored (e.g. tf.train.Checkpoint.restore or tf.keras.Model.load_weights) but not all checkpointed values were used. See above for specific issues. Use expect_partial() on the load status object, e.g. tf.train.Checkpoint.restore(...).expect_partial(), to silence these warnings, or use assert_consumed() to make the check explicit. See https://www.tensorflow.org/guide/checkpoint#loading_mechanics for details.\n",
      "WARNING:tensorflow:Unresolved object in checkpoint: (root).optimizer.iter\n",
      "WARNING:tensorflow:A checkpoint was restored (e.g. tf.train.Checkpoint.restore or tf.keras.Model.load_weights) but not all checkpointed values were used. See above for specific issues. Use expect_partial() on the load status object, e.g. tf.train.Checkpoint.restore(...).expect_partial(), to silence these warnings, or use assert_consumed() to make the check explicit. See https://www.tensorflow.org/guide/checkpoint#loading_mechanics for details.\n",
      "Model: \"sequential\"\n",
      "_________________________________________________________________\n",
      " Layer (type)                Output Shape              Param #   \n",
      "=================================================================\n",
      " normalization (Normalizatio  (None, 43)               87        \n",
      " n)                                                              \n",
      "                                                                 \n",
      " dense (Dense)               (None, 64)                2816      \n",
      "                                                                 \n",
      " dense_1 (Dense)             (None, 32)                2080      \n",
      "                                                                 \n",
      " dropout (Dropout)           (None, 32)                0         \n",
      "                                                                 \n",
      " dense_2 (Dense)             (None, 1)                 33        \n",
      "                                                                 \n",
      "=================================================================\n",
      "Total params: 5,016\n",
      "Trainable params: 4,929\n",
      "Non-trainable params: 87\n",
      "_________________________________________________________________\n"
     ]
    }
   ],
   "source": [
    "# Get the top 2 models.\n",
    "models = tuner.get_best_models(num_models=2)\n",
    "best_model = models[0]\n",
    "best_model.summary()"
   ]
  },
  {
   "cell_type": "code",
   "execution_count": 31,
   "id": "0b058dde-a1ed-4b3b-9235-2469e5ba256f",
   "metadata": {
    "collapsed": true,
    "jupyter": {
     "outputs_hidden": true
    },
    "tags": []
   },
   "outputs": [
    {
     "ename": "ValueError",
     "evalue": "Tensor conversion requested dtype float32 for Tensor with dtype float64: <tf.Tensor: shape=(), dtype=float64, numpy=0.014000000000000002>",
     "output_type": "error",
     "traceback": [
      "\u001b[1;31m---------------------------------------------------------------------------\u001b[0m",
      "\u001b[1;31mValueError\u001b[0m                                Traceback (most recent call last)",
      "Input \u001b[1;32mIn [31]\u001b[0m, in \u001b[0;36m<cell line: 1>\u001b[1;34m()\u001b[0m\n\u001b[1;32m----> 1\u001b[0m \u001b[43mbest_model\u001b[49m\u001b[38;5;241;43m.\u001b[39;49m\u001b[43moptimizer\u001b[49m\u001b[38;5;241;43m.\u001b[39;49m\u001b[43mlr\u001b[49m\n",
      "File \u001b[1;32m~\\Desktop\\mlp tuning\\thesis_code\\tuning_venv\\lib\\site-packages\\keras\\optimizer_v2\\optimizer_v2.py:844\u001b[0m, in \u001b[0;36mOptimizerV2.__getattribute__\u001b[1;34m(self, name)\u001b[0m\n\u001b[0;32m    842\u001b[0m   name \u001b[38;5;241m=\u001b[39m \u001b[38;5;124m\"\u001b[39m\u001b[38;5;124mlearning_rate\u001b[39m\u001b[38;5;124m\"\u001b[39m\n\u001b[0;32m    843\u001b[0m \u001b[38;5;28;01mif\u001b[39;00m name \u001b[38;5;129;01min\u001b[39;00m \u001b[38;5;28mself\u001b[39m\u001b[38;5;241m.\u001b[39m_hyper:\n\u001b[1;32m--> 844\u001b[0m   \u001b[38;5;28;01mreturn\u001b[39;00m \u001b[38;5;28;43mself\u001b[39;49m\u001b[38;5;241;43m.\u001b[39;49m\u001b[43m_get_hyper\u001b[49m\u001b[43m(\u001b[49m\u001b[43mname\u001b[49m\u001b[43m)\u001b[49m\n\u001b[0;32m    845\u001b[0m \u001b[38;5;28;01mraise\u001b[39;00m e\n",
      "File \u001b[1;32m~\\Desktop\\mlp tuning\\thesis_code\\tuning_venv\\lib\\site-packages\\keras\\optimizer_v2\\optimizer_v2.py:801\u001b[0m, in \u001b[0;36mOptimizerV2._get_hyper\u001b[1;34m(self, name, dtype)\u001b[0m\n\u001b[0;32m    799\u001b[0m \u001b[38;5;28;01mdef\u001b[39;00m \u001b[38;5;21m_get_hyper\u001b[39m(\u001b[38;5;28mself\u001b[39m, name, dtype\u001b[38;5;241m=\u001b[39m\u001b[38;5;28;01mNone\u001b[39;00m):\n\u001b[0;32m    800\u001b[0m   \u001b[38;5;28;01mif\u001b[39;00m \u001b[38;5;129;01mnot\u001b[39;00m \u001b[38;5;28mself\u001b[39m\u001b[38;5;241m.\u001b[39m_hypers_created:\n\u001b[1;32m--> 801\u001b[0m     \u001b[38;5;28;43mself\u001b[39;49m\u001b[38;5;241;43m.\u001b[39;49m\u001b[43m_create_hypers\u001b[49m\u001b[43m(\u001b[49m\u001b[43m)\u001b[49m\n\u001b[0;32m    802\u001b[0m   value \u001b[38;5;241m=\u001b[39m \u001b[38;5;28mself\u001b[39m\u001b[38;5;241m.\u001b[39m_hyper[name]\n\u001b[0;32m    803\u001b[0m   \u001b[38;5;28;01mif\u001b[39;00m \u001b[38;5;28misinstance\u001b[39m(value, learning_rate_schedule\u001b[38;5;241m.\u001b[39mLearningRateSchedule):\n",
      "File \u001b[1;32m~\\Desktop\\mlp tuning\\thesis_code\\tuning_venv\\lib\\site-packages\\keras\\optimizer_v2\\optimizer_v2.py:977\u001b[0m, in \u001b[0;36mOptimizerV2._create_hypers\u001b[1;34m(self)\u001b[0m\n\u001b[0;32m    975\u001b[0m       \u001b[38;5;28;01mcontinue\u001b[39;00m\n\u001b[0;32m    976\u001b[0m     \u001b[38;5;28;01melse\u001b[39;00m:\n\u001b[1;32m--> 977\u001b[0m       \u001b[38;5;28mself\u001b[39m\u001b[38;5;241m.\u001b[39m_hyper[name] \u001b[38;5;241m=\u001b[39m \u001b[38;5;28;43mself\u001b[39;49m\u001b[38;5;241;43m.\u001b[39;49m\u001b[43madd_weight\u001b[49m\u001b[43m(\u001b[49m\n\u001b[0;32m    978\u001b[0m \u001b[43m          \u001b[49m\u001b[43mname\u001b[49m\u001b[43m,\u001b[49m\n\u001b[0;32m    979\u001b[0m \u001b[43m          \u001b[49m\u001b[43mshape\u001b[49m\u001b[38;5;241;43m=\u001b[39;49m\u001b[43m[\u001b[49m\u001b[43m]\u001b[49m\u001b[43m,\u001b[49m\n\u001b[0;32m    980\u001b[0m \u001b[43m          \u001b[49m\u001b[43mtrainable\u001b[49m\u001b[38;5;241;43m=\u001b[39;49m\u001b[38;5;28;43;01mFalse\u001b[39;49;00m\u001b[43m,\u001b[49m\n\u001b[0;32m    981\u001b[0m \u001b[43m          \u001b[49m\u001b[43minitializer\u001b[49m\u001b[38;5;241;43m=\u001b[39;49m\u001b[43mvalue\u001b[49m\u001b[43m,\u001b[49m\n\u001b[0;32m    982\u001b[0m \u001b[43m          \u001b[49m\u001b[43maggregation\u001b[49m\u001b[38;5;241;43m=\u001b[39;49m\u001b[43mtf\u001b[49m\u001b[38;5;241;43m.\u001b[39;49m\u001b[43mVariableAggregation\u001b[49m\u001b[38;5;241;43m.\u001b[39;49m\u001b[43mONLY_FIRST_REPLICA\u001b[49m\u001b[43m)\u001b[49m\n\u001b[0;32m    983\u001b[0m \u001b[38;5;28mself\u001b[39m\u001b[38;5;241m.\u001b[39m_hypers_created \u001b[38;5;241m=\u001b[39m \u001b[38;5;28;01mTrue\u001b[39;00m\n",
      "File \u001b[1;32m~\\Desktop\\mlp tuning\\thesis_code\\tuning_venv\\lib\\site-packages\\keras\\optimizer_v2\\optimizer_v2.py:1192\u001b[0m, in \u001b[0;36mOptimizerV2.add_weight\u001b[1;34m(self, name, shape, dtype, initializer, trainable, synchronization, aggregation)\u001b[0m\n\u001b[0;32m   1189\u001b[0m \u001b[38;5;28;01melif\u001b[39;00m trainable \u001b[38;5;129;01mis\u001b[39;00m \u001b[38;5;28;01mNone\u001b[39;00m:\n\u001b[0;32m   1190\u001b[0m   trainable \u001b[38;5;241m=\u001b[39m \u001b[38;5;28;01mTrue\u001b[39;00m\n\u001b[1;32m-> 1192\u001b[0m variable \u001b[38;5;241m=\u001b[39m \u001b[38;5;28;43mself\u001b[39;49m\u001b[38;5;241;43m.\u001b[39;49m\u001b[43m_add_variable_with_custom_getter\u001b[49m\u001b[43m(\u001b[49m\n\u001b[0;32m   1193\u001b[0m \u001b[43m    \u001b[49m\u001b[43mname\u001b[49m\u001b[38;5;241;43m=\u001b[39;49m\u001b[43mname\u001b[49m\u001b[43m,\u001b[49m\n\u001b[0;32m   1194\u001b[0m \u001b[43m    \u001b[49m\u001b[43mshape\u001b[49m\u001b[38;5;241;43m=\u001b[39;49m\u001b[43mshape\u001b[49m\u001b[43m,\u001b[49m\n\u001b[0;32m   1195\u001b[0m \u001b[43m    \u001b[49m\u001b[43mgetter\u001b[49m\u001b[38;5;241;43m=\u001b[39;49m\u001b[43mbase_layer_utils\u001b[49m\u001b[38;5;241;43m.\u001b[39;49m\u001b[43mmake_variable\u001b[49m\u001b[43m,\u001b[49m\n\u001b[0;32m   1196\u001b[0m \u001b[43m    \u001b[49m\u001b[43moverwrite\u001b[49m\u001b[38;5;241;43m=\u001b[39;49m\u001b[38;5;28;43;01mTrue\u001b[39;49;00m\u001b[43m,\u001b[49m\n\u001b[0;32m   1197\u001b[0m \u001b[43m    \u001b[49m\u001b[43minitializer\u001b[49m\u001b[38;5;241;43m=\u001b[39;49m\u001b[43minitializer\u001b[49m\u001b[43m,\u001b[49m\n\u001b[0;32m   1198\u001b[0m \u001b[43m    \u001b[49m\u001b[43mdtype\u001b[49m\u001b[38;5;241;43m=\u001b[39;49m\u001b[43mdtype\u001b[49m\u001b[43m,\u001b[49m\n\u001b[0;32m   1199\u001b[0m \u001b[43m    \u001b[49m\u001b[43mtrainable\u001b[49m\u001b[38;5;241;43m=\u001b[39;49m\u001b[43mtrainable\u001b[49m\u001b[43m,\u001b[49m\n\u001b[0;32m   1200\u001b[0m \u001b[43m    \u001b[49m\u001b[43muse_resource\u001b[49m\u001b[38;5;241;43m=\u001b[39;49m\u001b[38;5;28;43;01mTrue\u001b[39;49;00m\u001b[43m,\u001b[49m\n\u001b[0;32m   1201\u001b[0m \u001b[43m    \u001b[49m\u001b[43msynchronization\u001b[49m\u001b[38;5;241;43m=\u001b[39;49m\u001b[43msynchronization\u001b[49m\u001b[43m,\u001b[49m\n\u001b[0;32m   1202\u001b[0m \u001b[43m    \u001b[49m\u001b[43maggregation\u001b[49m\u001b[38;5;241;43m=\u001b[39;49m\u001b[43maggregation\u001b[49m\u001b[43m)\u001b[49m\n\u001b[0;32m   1203\u001b[0m backend\u001b[38;5;241m.\u001b[39mtrack_variable(variable)\n\u001b[0;32m   1205\u001b[0m \u001b[38;5;28;01mreturn\u001b[39;00m variable\n",
      "File \u001b[1;32m~\\Desktop\\mlp tuning\\thesis_code\\tuning_venv\\lib\\site-packages\\tensorflow\\python\\training\\tracking\\base.py:816\u001b[0m, in \u001b[0;36mTrackable._add_variable_with_custom_getter\u001b[1;34m(self, name, shape, dtype, initializer, getter, overwrite, **kwargs_for_getter)\u001b[0m\n\u001b[0;32m    806\u001b[0m   \u001b[38;5;28;01mif\u001b[39;00m (checkpoint_initializer \u001b[38;5;129;01mis\u001b[39;00m \u001b[38;5;129;01mnot\u001b[39;00m \u001b[38;5;28;01mNone\u001b[39;00m \u001b[38;5;129;01mand\u001b[39;00m\n\u001b[0;32m    807\u001b[0m       \u001b[38;5;129;01mnot\u001b[39;00m (\u001b[38;5;28misinstance\u001b[39m(initializer, CheckpointInitialValueCallable) \u001b[38;5;129;01mand\u001b[39;00m\n\u001b[0;32m    808\u001b[0m            (initializer\u001b[38;5;241m.\u001b[39mrestore_uid \u001b[38;5;241m>\u001b[39m checkpoint_initializer\u001b[38;5;241m.\u001b[39mrestore_uid))):\n\u001b[1;32m   (...)\u001b[0m\n\u001b[0;32m    813\u001b[0m     \u001b[38;5;66;03m# then we'll catch that when we call _track_trackable. So this is\u001b[39;00m\n\u001b[0;32m    814\u001b[0m     \u001b[38;5;66;03m# \"best effort\" to set the initializer with the highest restore UID.\u001b[39;00m\n\u001b[0;32m    815\u001b[0m     initializer \u001b[38;5;241m=\u001b[39m checkpoint_initializer\n\u001b[1;32m--> 816\u001b[0m new_variable \u001b[38;5;241m=\u001b[39m getter(\n\u001b[0;32m    817\u001b[0m     name\u001b[38;5;241m=\u001b[39mname,\n\u001b[0;32m    818\u001b[0m     shape\u001b[38;5;241m=\u001b[39mshape,\n\u001b[0;32m    819\u001b[0m     dtype\u001b[38;5;241m=\u001b[39mdtype,\n\u001b[0;32m    820\u001b[0m     initializer\u001b[38;5;241m=\u001b[39minitializer,\n\u001b[0;32m    821\u001b[0m     \u001b[38;5;241m*\u001b[39m\u001b[38;5;241m*\u001b[39mkwargs_for_getter)\n\u001b[0;32m    823\u001b[0m \u001b[38;5;66;03m# If we set an initializer and the variable processed it, tracking will not\u001b[39;00m\n\u001b[0;32m    824\u001b[0m \u001b[38;5;66;03m# assign again. It will add this variable to our dependencies, and if there\u001b[39;00m\n\u001b[0;32m    825\u001b[0m \u001b[38;5;66;03m# is a non-trivial restoration queued, it will handle that. This also\u001b[39;00m\n\u001b[0;32m    826\u001b[0m \u001b[38;5;66;03m# handles slot variables.\u001b[39;00m\n\u001b[0;32m    827\u001b[0m \u001b[38;5;28;01mif\u001b[39;00m \u001b[38;5;129;01mnot\u001b[39;00m overwrite \u001b[38;5;129;01mor\u001b[39;00m \u001b[38;5;28misinstance\u001b[39m(new_variable, Trackable):\n",
      "File \u001b[1;32m~\\Desktop\\mlp tuning\\thesis_code\\tuning_venv\\lib\\site-packages\\keras\\engine\\base_layer_utils.py:117\u001b[0m, in \u001b[0;36mmake_variable\u001b[1;34m(name, shape, dtype, initializer, trainable, caching_device, validate_shape, constraint, use_resource, collections, synchronization, aggregation, partitioner)\u001b[0m\n\u001b[0;32m    112\u001b[0m   use_resource \u001b[38;5;241m=\u001b[39m \u001b[38;5;28;01mTrue\u001b[39;00m\n\u001b[0;32m    113\u001b[0m \u001b[38;5;66;03m# In theory, in `use_resource` is True and `collections` is empty\u001b[39;00m\n\u001b[0;32m    114\u001b[0m \u001b[38;5;66;03m# (that is to say, in TF2), we can use tf.Variable.\u001b[39;00m\n\u001b[0;32m    115\u001b[0m \u001b[38;5;66;03m# However, this breaks legacy (Estimator) checkpoints\u001b[39;00m\n\u001b[0;32m    116\u001b[0m \u001b[38;5;66;03m# because it changes variable names. Remove this when V1 is fully deprecated.\u001b[39;00m\n\u001b[1;32m--> 117\u001b[0m \u001b[38;5;28;01mreturn\u001b[39;00m \u001b[43mtf\u001b[49m\u001b[38;5;241;43m.\u001b[39;49m\u001b[43mcompat\u001b[49m\u001b[38;5;241;43m.\u001b[39;49m\u001b[43mv1\u001b[49m\u001b[38;5;241;43m.\u001b[39;49m\u001b[43mVariable\u001b[49m\u001b[43m(\u001b[49m\n\u001b[0;32m    118\u001b[0m \u001b[43m    \u001b[49m\u001b[43minitial_value\u001b[49m\u001b[38;5;241;43m=\u001b[39;49m\u001b[43minit_val\u001b[49m\u001b[43m,\u001b[49m\n\u001b[0;32m    119\u001b[0m \u001b[43m    \u001b[49m\u001b[43mname\u001b[49m\u001b[38;5;241;43m=\u001b[39;49m\u001b[43mname\u001b[49m\u001b[43m,\u001b[49m\n\u001b[0;32m    120\u001b[0m \u001b[43m    \u001b[49m\u001b[43mtrainable\u001b[49m\u001b[38;5;241;43m=\u001b[39;49m\u001b[43mtrainable\u001b[49m\u001b[43m,\u001b[49m\n\u001b[0;32m    121\u001b[0m \u001b[43m    \u001b[49m\u001b[43mcaching_device\u001b[49m\u001b[38;5;241;43m=\u001b[39;49m\u001b[43mcaching_device\u001b[49m\u001b[43m,\u001b[49m\n\u001b[0;32m    122\u001b[0m \u001b[43m    \u001b[49m\u001b[43mdtype\u001b[49m\u001b[38;5;241;43m=\u001b[39;49m\u001b[43mvariable_dtype\u001b[49m\u001b[43m,\u001b[49m\n\u001b[0;32m    123\u001b[0m \u001b[43m    \u001b[49m\u001b[43mvalidate_shape\u001b[49m\u001b[38;5;241;43m=\u001b[39;49m\u001b[43mvalidate_shape\u001b[49m\u001b[43m,\u001b[49m\n\u001b[0;32m    124\u001b[0m \u001b[43m    \u001b[49m\u001b[43mconstraint\u001b[49m\u001b[38;5;241;43m=\u001b[39;49m\u001b[43mconstraint\u001b[49m\u001b[43m,\u001b[49m\n\u001b[0;32m    125\u001b[0m \u001b[43m    \u001b[49m\u001b[43muse_resource\u001b[49m\u001b[38;5;241;43m=\u001b[39;49m\u001b[43muse_resource\u001b[49m\u001b[43m,\u001b[49m\n\u001b[0;32m    126\u001b[0m \u001b[43m    \u001b[49m\u001b[43mcollections\u001b[49m\u001b[38;5;241;43m=\u001b[39;49m\u001b[43mcollections\u001b[49m\u001b[43m,\u001b[49m\n\u001b[0;32m    127\u001b[0m \u001b[43m    \u001b[49m\u001b[43msynchronization\u001b[49m\u001b[38;5;241;43m=\u001b[39;49m\u001b[43msynchronization\u001b[49m\u001b[43m,\u001b[49m\n\u001b[0;32m    128\u001b[0m \u001b[43m    \u001b[49m\u001b[43maggregation\u001b[49m\u001b[38;5;241;43m=\u001b[39;49m\u001b[43maggregation\u001b[49m\u001b[43m,\u001b[49m\n\u001b[0;32m    129\u001b[0m \u001b[43m    \u001b[49m\u001b[43mshape\u001b[49m\u001b[38;5;241;43m=\u001b[39;49m\u001b[43mvariable_shape\u001b[49m\u001b[43m \u001b[49m\u001b[38;5;28;43;01mif\u001b[39;49;00m\u001b[43m \u001b[49m\u001b[43mvariable_shape\u001b[49m\u001b[43m \u001b[49m\u001b[38;5;28;43;01melse\u001b[39;49;00m\u001b[43m \u001b[49m\u001b[38;5;28;43;01mNone\u001b[39;49;00m\u001b[43m)\u001b[49m\n",
      "File \u001b[1;32m~\\Desktop\\mlp tuning\\thesis_code\\tuning_venv\\lib\\site-packages\\tensorflow\\python\\util\\traceback_utils.py:153\u001b[0m, in \u001b[0;36mfilter_traceback.<locals>.error_handler\u001b[1;34m(*args, **kwargs)\u001b[0m\n\u001b[0;32m    151\u001b[0m \u001b[38;5;28;01mexcept\u001b[39;00m \u001b[38;5;167;01mException\u001b[39;00m \u001b[38;5;28;01mas\u001b[39;00m e:\n\u001b[0;32m    152\u001b[0m   filtered_tb \u001b[38;5;241m=\u001b[39m _process_traceback_frames(e\u001b[38;5;241m.\u001b[39m__traceback__)\n\u001b[1;32m--> 153\u001b[0m   \u001b[38;5;28;01mraise\u001b[39;00m e\u001b[38;5;241m.\u001b[39mwith_traceback(filtered_tb) \u001b[38;5;28;01mfrom\u001b[39;00m \u001b[38;5;28mNone\u001b[39m\n\u001b[0;32m    154\u001b[0m \u001b[38;5;28;01mfinally\u001b[39;00m:\n\u001b[0;32m    155\u001b[0m   \u001b[38;5;28;01mdel\u001b[39;00m filtered_tb\n",
      "File \u001b[1;32m~\\Desktop\\mlp tuning\\thesis_code\\tuning_venv\\lib\\site-packages\\tensorflow\\python\\framework\\ops.py:1588\u001b[0m, in \u001b[0;36mconvert_to_tensor\u001b[1;34m(value, dtype, name, as_ref, preferred_dtype, dtype_hint, ctx, accepted_result_types)\u001b[0m\n\u001b[0;32m   1586\u001b[0m \u001b[38;5;28;01mif\u001b[39;00m \u001b[38;5;28misinstance\u001b[39m(value, Tensor):\n\u001b[0;32m   1587\u001b[0m   \u001b[38;5;28;01mif\u001b[39;00m dtype \u001b[38;5;129;01mis\u001b[39;00m \u001b[38;5;129;01mnot\u001b[39;00m \u001b[38;5;28;01mNone\u001b[39;00m \u001b[38;5;129;01mand\u001b[39;00m \u001b[38;5;129;01mnot\u001b[39;00m dtype\u001b[38;5;241m.\u001b[39mis_compatible_with(value\u001b[38;5;241m.\u001b[39mdtype):\n\u001b[1;32m-> 1588\u001b[0m     \u001b[38;5;28;01mraise\u001b[39;00m \u001b[38;5;167;01mValueError\u001b[39;00m(\n\u001b[0;32m   1589\u001b[0m         \u001b[38;5;124m\"\u001b[39m\u001b[38;5;124mTensor conversion requested dtype \u001b[39m\u001b[38;5;132;01m%s\u001b[39;00m\u001b[38;5;124m for Tensor with dtype \u001b[39m\u001b[38;5;132;01m%s\u001b[39;00m\u001b[38;5;124m: \u001b[39m\u001b[38;5;132;01m%r\u001b[39;00m\u001b[38;5;124m\"\u001b[39m \u001b[38;5;241m%\u001b[39m\n\u001b[0;32m   1590\u001b[0m         (dtype\u001b[38;5;241m.\u001b[39mname, value\u001b[38;5;241m.\u001b[39mdtype\u001b[38;5;241m.\u001b[39mname, value))\n\u001b[0;32m   1591\u001b[0m   \u001b[38;5;28;01mreturn\u001b[39;00m value\n\u001b[0;32m   1593\u001b[0m \u001b[38;5;28;01mif\u001b[39;00m preferred_dtype \u001b[38;5;129;01mis\u001b[39;00m \u001b[38;5;129;01mnot\u001b[39;00m \u001b[38;5;28;01mNone\u001b[39;00m:\n",
      "\u001b[1;31mValueError\u001b[0m: Tensor conversion requested dtype float32 for Tensor with dtype float64: <tf.Tensor: shape=(), dtype=float64, numpy=0.014000000000000002>"
     ]
    }
   ],
   "source": [
    "best_model.optimizer.lr"
   ]
  },
  {
   "cell_type": "code",
   "execution_count": 32,
   "id": "5727bf89-1b82-4b70-8d5e-7b040dd55b95",
   "metadata": {
    "collapsed": true,
    "jupyter": {
     "outputs_hidden": true
    },
    "tags": []
   },
   "outputs": [
    {
     "name": "stdout",
     "output_type": "stream",
     "text": [
      "Results summary\n",
      "Results in models/mlp_tuning\\cycle3\n",
      "Showing 10 best trials\n",
      "Objective(name='val_loss', direction='min')\n",
      "Trial summary\n",
      "Hyperparameters:\n",
      "num_layers: 2\n",
      "hidden_1: 64\n",
      "hidden_2: 32\n",
      "dropout: 0.05\n",
      "learning_rate: 0.014000000000000002\n",
      "hidden_3: 8\n",
      "Score: 500756.1875\n",
      "Trial summary\n",
      "Hyperparameters:\n",
      "num_layers: 2\n",
      "hidden_1: 56\n",
      "hidden_2: 24\n",
      "dropout: 0.05\n",
      "learning_rate: 0.007\n",
      "hidden_3: 8\n",
      "Score: 516823.71875\n",
      "Trial summary\n",
      "Hyperparameters:\n",
      "num_layers: 2\n",
      "hidden_1: 64\n",
      "hidden_2: 16\n",
      "dropout: 0.05\n",
      "learning_rate: 0.005\n",
      "hidden_3: 8\n",
      "Score: 530332.375\n",
      "Trial summary\n",
      "Hyperparameters:\n",
      "num_layers: 3\n",
      "hidden_1: 56\n",
      "hidden_2: 16\n",
      "dropout: 0.1\n",
      "learning_rate: 0.005\n",
      "hidden_3: 8\n",
      "Score: 554155.9375\n",
      "Trial summary\n",
      "Hyperparameters:\n",
      "num_layers: 3\n",
      "hidden_1: 64\n",
      "hidden_2: 16\n",
      "dropout: 0.1\n",
      "learning_rate: 0.004\n",
      "hidden_3: 8\n",
      "Score: 568335.125\n",
      "Trial summary\n",
      "Hyperparameters:\n",
      "num_layers: 3\n",
      "hidden_1: 48\n",
      "hidden_2: 24\n",
      "dropout: 0.1\n",
      "learning_rate: 0.02\n",
      "hidden_3: 8\n",
      "Score: 622627.875\n",
      "Trial summary\n",
      "Hyperparameters:\n",
      "num_layers: 2\n",
      "hidden_1: 40\n",
      "hidden_2: 8\n",
      "dropout: 0.0\n",
      "learning_rate: 0.004\n",
      "hidden_3: 8\n",
      "Score: 641791.0625\n",
      "Trial summary\n",
      "Hyperparameters:\n",
      "num_layers: 3\n",
      "hidden_1: 48\n",
      "hidden_2: 8\n",
      "dropout: 0.05\n",
      "learning_rate: 0.003\n",
      "hidden_3: 8\n",
      "Score: 642112.625\n",
      "Trial summary\n",
      "Hyperparameters:\n",
      "num_layers: 3\n",
      "hidden_1: 48\n",
      "hidden_2: 24\n",
      "dropout: 0.05\n",
      "learning_rate: 0.018000000000000002\n",
      "hidden_3: 8\n",
      "Score: 643413.1875\n",
      "Trial summary\n",
      "Hyperparameters:\n",
      "num_layers: 3\n",
      "hidden_1: 48\n",
      "hidden_2: 8\n",
      "dropout: 0.05\n",
      "learning_rate: 0.013000000000000001\n",
      "hidden_3: 8\n",
      "Score: 645428.625\n"
     ]
    }
   ],
   "source": [
    "tuner.results_summary()"
   ]
  },
  {
   "cell_type": "markdown",
   "id": "a41623d7-76b2-45c1-8448-6385475f6e80",
   "metadata": {
    "jp-MarkdownHeadingCollapsed": true,
    "tags": []
   },
   "source": [
    "### Fourth cycle"
   ]
  },
  {
   "cell_type": "code",
   "execution_count": 33,
   "id": "c7521194-7695-4846-bdf4-cf662359f5ff",
   "metadata": {},
   "outputs": [],
   "source": [
    "# narrow down params"
   ]
  },
  {
   "cell_type": "code",
   "execution_count": 34,
   "id": "7a60095e-8f27-4aae-8776-acba046f892e",
   "metadata": {},
   "outputs": [
    {
     "name": "stdout",
     "output_type": "stream",
     "text": [
      "Search space summary\n",
      "Default search space size: 4\n",
      "hidden_1 (Int)\n",
      "{'default': None, 'conditions': [], 'min_value': 48, 'max_value': 64, 'step': 8, 'sampling': None}\n",
      "hidden_2 (Int)\n",
      "{'default': None, 'conditions': [], 'min_value': 16, 'max_value': 48, 'step': 8, 'sampling': None}\n",
      "dropout (Float)\n",
      "{'default': 0.1, 'conditions': [], 'min_value': 0.0, 'max_value': 0.1, 'step': 0.05, 'sampling': None}\n",
      "learning_rate (Float)\n",
      "{'default': 0.005, 'conditions': [], 'min_value': 0.002, 'max_value': 0.018, 'step': 0.001, 'sampling': None}\n"
     ]
    }
   ],
   "source": [
    "def build_model(hp):\n",
    "    model = tf.keras.Sequential()\n",
    "    \n",
    "    # input layer\n",
    "    model.add(normalizer)\n",
    "    \n",
    "    # hidden layers\n",
    "    num_layers = 2\n",
    "\n",
    "    hidden_1 = hp.Int('hidden_1', 48, 64, step=8)\n",
    "    model.add(tf.keras.layers.Dense(units=hidden_1, activation='relu'))\n",
    "\n",
    "    hidden_2 = hp.Int('hidden_2', 16, hidden_1, step=8)\n",
    "    model.add(tf.keras.layers.Dense(units=hidden_2, activation='relu'))\n",
    "\n",
    "        \n",
    "    # dropout layer\n",
    "    dropout = hp.Float('dropout', min_value=0.0, max_value=0.1, default=0.1, step=0.05)\n",
    "    model.add(tf.keras.layers.Dropout(rate=dropout))\n",
    "    \n",
    "    # output layer\n",
    "    model.add(tf.keras.layers.Dense(1))\n",
    "    \n",
    "    # compile\n",
    "    learning_rate = hp.Float(\n",
    "                'learning_rate',\n",
    "                min_value=0.002,\n",
    "                max_value=0.018,\n",
    "                step=0.001,\n",
    "                default=0.005)\n",
    "    model.compile(\n",
    "        optimizer=keras.optimizers.Adam(learning_rate),\n",
    "        loss='mean_squared_error', \n",
    "        metrics=['mean_squared_error']\n",
    "    )\n",
    "    #hp_learning_rate = hp.Choice('learning_rate', values=[0.1, 0.05, 0.01, 0.005, 0.001, 0.0005, 0.0001])\n",
    "    return model\n",
    "\n",
    "tuner = kt.RandomSearch(\n",
    "    build_model,\n",
    "    objective = 'val_loss',\n",
    "    max_trials = 10,\n",
    "    executions_per_trial = 1,\n",
    "    directory = 'models/mlp_tuning',\n",
    "    project_name=\"cycle4\",   \n",
    ")\n",
    "tuner.search_space_summary()"
   ]
  },
  {
   "cell_type": "code",
   "execution_count": 35,
   "id": "04d5d818-bcae-466a-b52d-bcb38f221558",
   "metadata": {},
   "outputs": [
    {
     "name": "stdout",
     "output_type": "stream",
     "text": [
      "Trial 10 Complete [00h 02m 43s]\n",
      "val_loss: 475510.09375\n",
      "\n",
      "Best val_loss So Far: 425945.09375\n",
      "Total elapsed time: 00h 28m 47s\n",
      "INFO:tensorflow:Oracle triggered exit\n"
     ]
    }
   ],
   "source": [
    "stop_early = tf.keras.callbacks.EarlyStopping(monitor='val_loss', patience=9)\n",
    "tuner.search(X_train.astype(float), y_train, epochs=220, validation_split=0.2, callbacks=[stop_early])"
   ]
  },
  {
   "cell_type": "code",
   "execution_count": 36,
   "id": "b5499fb1-e979-4640-b798-9b022b297e23",
   "metadata": {},
   "outputs": [
    {
     "name": "stdout",
     "output_type": "stream",
     "text": [
      "WARNING:tensorflow:Unresolved object in checkpoint: (root).optimizer.iter\n",
      "WARNING:tensorflow:Unresolved object in checkpoint: (root).optimizer.beta_1\n",
      "WARNING:tensorflow:Unresolved object in checkpoint: (root).optimizer.beta_2\n",
      "WARNING:tensorflow:Unresolved object in checkpoint: (root).optimizer.decay\n",
      "WARNING:tensorflow:Unresolved object in checkpoint: (root).optimizer.learning_rate\n",
      "WARNING:tensorflow:A checkpoint was restored (e.g. tf.train.Checkpoint.restore or tf.keras.Model.load_weights) but not all checkpointed values were used. See above for specific issues. Use expect_partial() on the load status object, e.g. tf.train.Checkpoint.restore(...).expect_partial(), to silence these warnings, or use assert_consumed() to make the check explicit. See https://www.tensorflow.org/guide/checkpoint#loading_mechanics for details.\n",
      "Model: \"sequential\"\n",
      "_________________________________________________________________\n",
      " Layer (type)                Output Shape              Param #   \n",
      "=================================================================\n",
      " normalization (Normalizatio  (None, 43)               87        \n",
      " n)                                                              \n",
      "                                                                 \n",
      " dense (Dense)               (None, 64)                2816      \n",
      "                                                                 \n",
      " dense_1 (Dense)             (None, 48)                3120      \n",
      "                                                                 \n",
      " dropout (Dropout)           (None, 48)                0         \n",
      "                                                                 \n",
      " dense_2 (Dense)             (None, 1)                 49        \n",
      "                                                                 \n",
      "=================================================================\n",
      "Total params: 6,072\n",
      "Trainable params: 5,985\n",
      "Non-trainable params: 87\n",
      "_________________________________________________________________\n"
     ]
    }
   ],
   "source": [
    "# Get the top 2 models.\n",
    "models = tuner.get_best_models(num_models=2)\n",
    "best_model = models[0]\n",
    "best_model.summary()"
   ]
  },
  {
   "cell_type": "code",
   "execution_count": 38,
   "id": "132f19f5-11d3-48b6-b93e-450debbb9bc0",
   "metadata": {
    "collapsed": true,
    "jupyter": {
     "outputs_hidden": true
    },
    "tags": []
   },
   "outputs": [
    {
     "name": "stdout",
     "output_type": "stream",
     "text": [
      "Results summary\n",
      "Results in models/mlp_tuning\\cycle4\n",
      "Showing 10 best trials\n",
      "Objective(name='val_loss', direction='min')\n",
      "Trial summary\n",
      "Hyperparameters:\n",
      "hidden_1: 64\n",
      "hidden_2: 48\n",
      "dropout: 0.0\n",
      "learning_rate: 0.016\n",
      "Score: 425945.09375\n",
      "Trial summary\n",
      "Hyperparameters:\n",
      "hidden_1: 64\n",
      "hidden_2: 40\n",
      "dropout: 0.05\n",
      "learning_rate: 0.016\n",
      "Score: 475510.09375\n",
      "Trial summary\n",
      "Hyperparameters:\n",
      "hidden_1: 56\n",
      "hidden_2: 40\n",
      "dropout: 0.05\n",
      "learning_rate: 0.017\n",
      "Score: 476509.5\n",
      "Trial summary\n",
      "Hyperparameters:\n",
      "hidden_1: 56\n",
      "hidden_2: 32\n",
      "dropout: 0.1\n",
      "learning_rate: 0.004\n",
      "Score: 520951.4375\n",
      "Trial summary\n",
      "Hyperparameters:\n",
      "hidden_1: 56\n",
      "hidden_2: 24\n",
      "dropout: 0.05\n",
      "learning_rate: 0.006\n",
      "Score: 525912.25\n",
      "Trial summary\n",
      "Hyperparameters:\n",
      "hidden_1: 56\n",
      "hidden_2: 16\n",
      "dropout: 0.05\n",
      "learning_rate: 0.005\n",
      "Score: 543973.625\n",
      "Trial summary\n",
      "Hyperparameters:\n",
      "hidden_1: 48\n",
      "hidden_2: 16\n",
      "dropout: 0.1\n",
      "learning_rate: 0.013\n",
      "Score: 544808.5625\n",
      "Trial summary\n",
      "Hyperparameters:\n",
      "hidden_1: 64\n",
      "hidden_2: 32\n",
      "dropout: 0.1\n",
      "learning_rate: 0.016\n",
      "Score: 547838.875\n",
      "Trial summary\n",
      "Hyperparameters:\n",
      "hidden_1: 48\n",
      "hidden_2: 40\n",
      "dropout: 0.05\n",
      "learning_rate: 0.011000000000000001\n",
      "Score: 551106.875\n",
      "Trial summary\n",
      "Hyperparameters:\n",
      "hidden_1: 56\n",
      "hidden_2: 24\n",
      "dropout: 0.1\n",
      "learning_rate: 0.008\n",
      "Score: 587192.1875\n"
     ]
    }
   ],
   "source": [
    "tuner.results_summary()"
   ]
  },
  {
   "cell_type": "code",
   "execution_count": null,
   "id": "8dafa6fc-b530-4c2d-b1dc-142e3237d940",
   "metadata": {},
   "outputs": [],
   "source": []
  },
  {
   "cell_type": "markdown",
   "id": "bfa2f742-779d-430d-8e2c-23fc9e35a97c",
   "metadata": {},
   "source": [
    "## Final Model"
   ]
  },
  {
   "cell_type": "code",
   "execution_count": 9,
   "id": "24fe1655-ca2f-44f1-b872-c3d6b2d8cfd8",
   "metadata": {},
   "outputs": [],
   "source": [
    "def build_and_compile_model(norm):\n",
    "    model = keras.Sequential([\n",
    "        norm,\n",
    "        layers.Dense(64, activation='relu'),\n",
    "        layers.Dense(48, activation='relu'),\n",
    "        layers.Dense(1)\n",
    "  ])\n",
    "\n",
    "    model.compile(loss='mean_squared_error',\n",
    "                optimizer=tf.keras.optimizers.Adam(0.016))\n",
    "    return model"
   ]
  },
  {
   "cell_type": "code",
   "execution_count": 10,
   "id": "4943f85b-5626-4b0c-8f0d-5bad3d86d4d2",
   "metadata": {},
   "outputs": [
    {
     "name": "stdout",
     "output_type": "stream",
     "text": [
      "Model: \"sequential\"\n",
      "_________________________________________________________________\n",
      " Layer (type)                Output Shape              Param #   \n",
      "=================================================================\n",
      " normalization (Normalizatio  (None, 43)               87        \n",
      " n)                                                              \n",
      "                                                                 \n",
      " dense (Dense)               (None, 64)                2816      \n",
      "                                                                 \n",
      " dense_1 (Dense)             (None, 48)                3120      \n",
      "                                                                 \n",
      " dense_2 (Dense)             (None, 1)                 49        \n",
      "                                                                 \n",
      "=================================================================\n",
      "Total params: 6,072\n",
      "Trainable params: 5,985\n",
      "Non-trainable params: 87\n",
      "_________________________________________________________________\n"
     ]
    }
   ],
   "source": [
    "dnn_model = build_and_compile_model(normalizer)\n",
    "dnn_model.summary()"
   ]
  },
  {
   "cell_type": "code",
   "execution_count": 11,
   "id": "a6a025cd-dd38-49e2-8a07-50a8ef2415e0",
   "metadata": {},
   "outputs": [],
   "source": [
    "EPOCHS = 500\n",
    "\n",
    "stop_early = tf.keras.callbacks.EarlyStopping(monitor='val_loss', patience=30)\n",
    "\n",
    "model_checkpoint_callback = tf.keras.callbacks.ModelCheckpoint(\n",
    "    filepath='models/mlp_training/checkpoint',\n",
    "    save_weights_only=True,\n",
    "    monitor='val_loss',\n",
    "    mode='auto',\n",
    "    save_best_only=True)"
   ]
  },
  {
   "cell_type": "code",
   "execution_count": 12,
   "id": "f75c852a-d31c-436d-9ac7-da2cb5e482fc",
   "metadata": {
    "collapsed": true,
    "jupyter": {
     "outputs_hidden": true
    },
    "tags": []
   },
   "outputs": [
    {
     "name": "stdout",
     "output_type": "stream",
     "text": [
      "Epoch 1/500\n",
      "2000/2000 [==============================] - 5s 2ms/step - loss: 4976178.5000 - val_loss: 2147915.0000\n",
      "Epoch 2/500\n",
      "2000/2000 [==============================] - 4s 2ms/step - loss: 1344964.2500 - val_loss: 1490915.6250\n",
      "Epoch 3/500\n",
      "2000/2000 [==============================] - 4s 2ms/step - loss: 1070301.5000 - val_loss: 913152.8125\n",
      "Epoch 4/500\n",
      "2000/2000 [==============================] - 4s 2ms/step - loss: 937471.6875 - val_loss: 1833545.5000\n",
      "Epoch 5/500\n",
      "2000/2000 [==============================] - 4s 2ms/step - loss: 829707.0625 - val_loss: 842388.5625\n",
      "Epoch 6/500\n",
      "2000/2000 [==============================] - 4s 2ms/step - loss: 789865.1250 - val_loss: 934691.5000\n",
      "Epoch 7/500\n",
      "2000/2000 [==============================] - 4s 2ms/step - loss: 709661.3125 - val_loss: 804213.0625\n",
      "Epoch 8/500\n",
      "2000/2000 [==============================] - 4s 2ms/step - loss: 679768.5625 - val_loss: 1007557.6250\n",
      "Epoch 9/500\n",
      "2000/2000 [==============================] - 4s 2ms/step - loss: 634447.3125 - val_loss: 624606.7500\n",
      "Epoch 10/500\n",
      "2000/2000 [==============================] - 4s 2ms/step - loss: 639387.6250 - val_loss: 958768.3750\n",
      "Epoch 11/500\n",
      "2000/2000 [==============================] - 4s 2ms/step - loss: 559948.3125 - val_loss: 594050.5000\n",
      "Epoch 12/500\n",
      "2000/2000 [==============================] - 4s 2ms/step - loss: 545597.6250 - val_loss: 1062684.1250\n",
      "Epoch 13/500\n",
      "2000/2000 [==============================] - 4s 2ms/step - loss: 544040.1875 - val_loss: 844610.9375\n",
      "Epoch 14/500\n",
      "2000/2000 [==============================] - 4s 2ms/step - loss: 513510.1875 - val_loss: 684189.5000\n",
      "Epoch 15/500\n",
      "2000/2000 [==============================] - 4s 2ms/step - loss: 546085.2500 - val_loss: 650038.2500\n",
      "Epoch 16/500\n",
      "2000/2000 [==============================] - 4s 2ms/step - loss: 488290.6562 - val_loss: 580103.0000\n",
      "Epoch 17/500\n",
      "2000/2000 [==============================] - 4s 2ms/step - loss: 452894.9062 - val_loss: 580349.8125\n",
      "Epoch 18/500\n",
      "2000/2000 [==============================] - 4s 2ms/step - loss: 473234.5312 - val_loss: 707812.2500\n",
      "Epoch 19/500\n",
      "2000/2000 [==============================] - 5s 2ms/step - loss: 441608.6250 - val_loss: 552424.9375\n",
      "Epoch 20/500\n",
      "2000/2000 [==============================] - 4s 2ms/step - loss: 430102.8750 - val_loss: 716405.2500\n",
      "Epoch 21/500\n",
      "2000/2000 [==============================] - 4s 2ms/step - loss: 443053.5312 - val_loss: 487786.0938\n",
      "Epoch 22/500\n",
      "2000/2000 [==============================] - 4s 2ms/step - loss: 433018.1875 - val_loss: 510889.4062\n",
      "Epoch 23/500\n",
      "2000/2000 [==============================] - 4s 2ms/step - loss: 402072.3125 - val_loss: 476265.0000\n",
      "Epoch 24/500\n",
      "2000/2000 [==============================] - 5s 2ms/step - loss: 432455.3750 - val_loss: 471330.9688\n",
      "Epoch 25/500\n",
      "2000/2000 [==============================] - 4s 2ms/step - loss: 379804.1250 - val_loss: 569916.0625\n",
      "Epoch 26/500\n",
      "2000/2000 [==============================] - 4s 2ms/step - loss: 381686.1562 - val_loss: 530095.3750\n",
      "Epoch 27/500\n",
      "2000/2000 [==============================] - 4s 2ms/step - loss: 376030.1875 - val_loss: 515145.4375\n",
      "Epoch 28/500\n",
      "2000/2000 [==============================] - 4s 2ms/step - loss: 373817.9062 - val_loss: 491150.8125\n",
      "Epoch 29/500\n",
      "2000/2000 [==============================] - 4s 2ms/step - loss: 362360.4688 - val_loss: 537617.4375\n",
      "Epoch 30/500\n",
      "2000/2000 [==============================] - 4s 2ms/step - loss: 365084.2188 - val_loss: 548058.1250\n",
      "Epoch 31/500\n",
      "2000/2000 [==============================] - 4s 2ms/step - loss: 367179.3750 - val_loss: 630118.8125\n",
      "Epoch 32/500\n",
      "2000/2000 [==============================] - 4s 2ms/step - loss: 362257.4375 - val_loss: 499673.4375\n",
      "Epoch 33/500\n",
      "2000/2000 [==============================] - 4s 2ms/step - loss: 358063.2188 - val_loss: 485403.2188\n",
      "Epoch 34/500\n",
      "2000/2000 [==============================] - 4s 2ms/step - loss: 346707.1875 - val_loss: 494746.9062\n",
      "Epoch 35/500\n",
      "2000/2000 [==============================] - 4s 2ms/step - loss: 338146.2812 - val_loss: 457275.4688\n",
      "Epoch 36/500\n",
      "2000/2000 [==============================] - 4s 2ms/step - loss: 313669.4375 - val_loss: 462914.4688\n",
      "Epoch 37/500\n",
      "2000/2000 [==============================] - 4s 2ms/step - loss: 329572.0312 - val_loss: 449383.8125\n",
      "Epoch 38/500\n",
      "2000/2000 [==============================] - 4s 2ms/step - loss: 318160.9062 - val_loss: 451443.0000\n",
      "Epoch 39/500\n",
      "2000/2000 [==============================] - 4s 2ms/step - loss: 376872.8125 - val_loss: 461850.7500\n",
      "Epoch 40/500\n",
      "2000/2000 [==============================] - 4s 2ms/step - loss: 320104.7812 - val_loss: 517131.9062\n",
      "Epoch 41/500\n",
      "2000/2000 [==============================] - 4s 2ms/step - loss: 316659.6562 - val_loss: 490167.0938\n",
      "Epoch 42/500\n",
      "2000/2000 [==============================] - 4s 2ms/step - loss: 323375.0938 - val_loss: 478432.4375\n",
      "Epoch 43/500\n",
      "2000/2000 [==============================] - 5s 2ms/step - loss: 321484.4688 - val_loss: 446043.6250\n",
      "Epoch 44/500\n",
      "2000/2000 [==============================] - 4s 2ms/step - loss: 292451.8438 - val_loss: 444054.5938\n",
      "Epoch 45/500\n",
      "2000/2000 [==============================] - 4s 2ms/step - loss: 303554.6875 - val_loss: 462907.4375\n",
      "Epoch 46/500\n",
      "2000/2000 [==============================] - 4s 2ms/step - loss: 297181.9688 - val_loss: 462049.4375\n",
      "Epoch 47/500\n",
      "2000/2000 [==============================] - 4s 2ms/step - loss: 297829.2500 - val_loss: 441771.0938\n",
      "Epoch 48/500\n",
      "2000/2000 [==============================] - 4s 2ms/step - loss: 287908.8750 - val_loss: 476641.5000\n",
      "Epoch 49/500\n",
      "2000/2000 [==============================] - 4s 2ms/step - loss: 288120.7812 - val_loss: 423105.3750\n",
      "Epoch 50/500\n",
      "2000/2000 [==============================] - 5s 2ms/step - loss: 310887.1562 - val_loss: 475609.1875\n",
      "Epoch 51/500\n",
      "2000/2000 [==============================] - 4s 2ms/step - loss: 285512.1562 - val_loss: 468031.8438\n",
      "Epoch 52/500\n",
      "2000/2000 [==============================] - 4s 2ms/step - loss: 303234.2812 - val_loss: 650622.8750\n",
      "Epoch 53/500\n",
      "2000/2000 [==============================] - 4s 2ms/step - loss: 279306.2188 - val_loss: 453586.9375\n",
      "Epoch 54/500\n",
      "2000/2000 [==============================] - 4s 2ms/step - loss: 278834.3438 - val_loss: 442014.9062\n",
      "Epoch 55/500\n",
      "2000/2000 [==============================] - 4s 2ms/step - loss: 275515.4375 - val_loss: 427412.9062\n",
      "Epoch 56/500\n",
      "2000/2000 [==============================] - 4s 2ms/step - loss: 293343.9688 - val_loss: 512958.6875\n",
      "Epoch 57/500\n",
      "2000/2000 [==============================] - 4s 2ms/step - loss: 270237.1562 - val_loss: 455971.1875\n",
      "Epoch 58/500\n",
      "2000/2000 [==============================] - 4s 2ms/step - loss: 256981.0312 - val_loss: 406712.2188\n",
      "Epoch 59/500\n",
      "2000/2000 [==============================] - 4s 2ms/step - loss: 270434.4062 - val_loss: 477304.5625\n",
      "Epoch 60/500\n",
      "2000/2000 [==============================] - 4s 2ms/step - loss: 273488.0000 - val_loss: 517612.3750\n",
      "Epoch 61/500\n",
      "2000/2000 [==============================] - 4s 2ms/step - loss: 267279.3125 - val_loss: 396775.9375\n",
      "Epoch 62/500\n",
      "2000/2000 [==============================] - 4s 2ms/step - loss: 280475.7812 - val_loss: 364270.1250\n",
      "Epoch 63/500\n",
      "2000/2000 [==============================] - 4s 2ms/step - loss: 272866.0312 - val_loss: 411470.5000\n",
      "Epoch 64/500\n",
      "2000/2000 [==============================] - 4s 2ms/step - loss: 275071.8125 - val_loss: 382168.4688\n",
      "Epoch 65/500\n",
      "2000/2000 [==============================] - 4s 2ms/step - loss: 248110.8438 - val_loss: 422717.4062\n",
      "Epoch 66/500\n",
      "2000/2000 [==============================] - 4s 2ms/step - loss: 246201.3750 - val_loss: 452507.1562\n",
      "Epoch 67/500\n",
      "2000/2000 [==============================] - 4s 2ms/step - loss: 265173.1250 - val_loss: 442552.8438\n",
      "Epoch 68/500\n",
      "2000/2000 [==============================] - 4s 2ms/step - loss: 264635.7812 - val_loss: 403357.1875\n",
      "Epoch 69/500\n",
      "2000/2000 [==============================] - 4s 2ms/step - loss: 248971.6875 - val_loss: 469358.2188\n",
      "Epoch 70/500\n",
      "2000/2000 [==============================] - 4s 2ms/step - loss: 251910.1719 - val_loss: 387242.1562\n",
      "Epoch 71/500\n",
      "2000/2000 [==============================] - 4s 2ms/step - loss: 239403.1250 - val_loss: 447997.6875\n",
      "Epoch 72/500\n",
      "2000/2000 [==============================] - 4s 2ms/step - loss: 273929.9688 - val_loss: 436244.5000\n",
      "Epoch 73/500\n",
      "2000/2000 [==============================] - 4s 2ms/step - loss: 249941.1406 - val_loss: 406614.4062\n",
      "Epoch 74/500\n",
      "2000/2000 [==============================] - 5s 2ms/step - loss: 239844.4688 - val_loss: 398799.7188\n",
      "Epoch 75/500\n",
      "2000/2000 [==============================] - 5s 2ms/step - loss: 235151.9531 - val_loss: 429193.0000\n",
      "Epoch 76/500\n",
      "2000/2000 [==============================] - 4s 2ms/step - loss: 246302.1094 - val_loss: 414903.4062\n",
      "Epoch 77/500\n",
      "2000/2000 [==============================] - 4s 2ms/step - loss: 232445.5000 - val_loss: 391401.2188\n",
      "Epoch 78/500\n",
      "2000/2000 [==============================] - 4s 2ms/step - loss: 238914.8125 - val_loss: 684100.4375\n",
      "Epoch 79/500\n",
      "2000/2000 [==============================] - 4s 2ms/step - loss: 241056.3594 - val_loss: 391112.0938\n",
      "Epoch 80/500\n",
      "2000/2000 [==============================] - 4s 2ms/step - loss: 243107.9219 - val_loss: 410856.1250\n",
      "Epoch 81/500\n",
      "2000/2000 [==============================] - 4s 2ms/step - loss: 243780.4062 - val_loss: 442901.2188\n",
      "Epoch 82/500\n",
      "2000/2000 [==============================] - 4s 2ms/step - loss: 229431.0312 - val_loss: 406457.0625\n",
      "Epoch 83/500\n",
      "2000/2000 [==============================] - 4s 2ms/step - loss: 233056.0938 - val_loss: 491271.1562\n",
      "Epoch 84/500\n",
      "2000/2000 [==============================] - 4s 2ms/step - loss: 223753.3906 - val_loss: 388640.1250\n",
      "Epoch 85/500\n",
      "2000/2000 [==============================] - 4s 2ms/step - loss: 241286.4688 - val_loss: 412616.2500\n",
      "Epoch 86/500\n",
      "2000/2000 [==============================] - 4s 2ms/step - loss: 222859.2969 - val_loss: 460389.2500\n",
      "Epoch 87/500\n",
      "2000/2000 [==============================] - 4s 2ms/step - loss: 233343.1719 - val_loss: 396487.5312\n",
      "Epoch 88/500\n",
      "2000/2000 [==============================] - 4s 2ms/step - loss: 219956.5781 - val_loss: 393802.2812\n",
      "Epoch 89/500\n",
      "2000/2000 [==============================] - 4s 2ms/step - loss: 223919.0625 - val_loss: 439941.8750\n",
      "Epoch 90/500\n",
      "2000/2000 [==============================] - 4s 2ms/step - loss: 221454.6406 - val_loss: 423721.0625\n",
      "Epoch 91/500\n",
      "2000/2000 [==============================] - 4s 2ms/step - loss: 233773.5781 - val_loss: 449434.0938\n",
      "Epoch 92/500\n",
      "2000/2000 [==============================] - 4s 2ms/step - loss: 224400.2812 - val_loss: 471071.2812\n",
      "CPU times: total: 11min 48s\n",
      "Wall time: 6min 36s\n"
     ]
    }
   ],
   "source": [
    "%%time\n",
    "# Model training\n",
    "history = dnn_model.fit(\n",
    "    X_train,\n",
    "    y_train,\n",
    "    epochs=EPOCHS,\n",
    "    # Suppress logging.\n",
    "    verbose=1,\n",
    "    # Calculate validation results on 20% of the training data.\n",
    "    validation_split = 0.2, \n",
    "    callbacks=[model_checkpoint_callback, stop_early])"
   ]
  },
  {
   "cell_type": "code",
   "execution_count": 20,
   "id": "02e90f2c-335b-4f7b-a2a2-48bb965ceb0d",
   "metadata": {},
   "outputs": [
    {
     "data": {
      "text/plain": [
       "<tensorflow.python.training.tracking.util.CheckpointLoadStatus at 0x1910f12d0a0>"
      ]
     },
     "execution_count": 20,
     "metadata": {},
     "output_type": "execute_result"
    }
   ],
   "source": [
    "# The model weights (that are considered the best) are loaded into the model.\n",
    "dnn_model.load_weights('models/mlp_training/checkpoint')"
   ]
  },
  {
   "cell_type": "code",
   "execution_count": 23,
   "id": "5ddc5db6-6c21-47a3-8a41-ac106fa8283a",
   "metadata": {},
   "outputs": [
    {
     "name": "stdout",
     "output_type": "stream",
     "text": [
      "INFO:tensorflow:Assets written to: models/dnn_model_final\\assets\n"
     ]
    }
   ],
   "source": [
    "# save the model\n",
    "dnn_model.save('models/dnn_model_final')"
   ]
  },
  {
   "cell_type": "code",
   "execution_count": 15,
   "id": "cde24ee5-af2a-43f3-83cb-0fe4cfce58a3",
   "metadata": {},
   "outputs": [
    {
     "data": {
      "image/png": "[encoded data removed]",
      "text/plain": [
       "<Figure size 432x288 with 1 Axes>"
      ]
     },
     "metadata": {
      "needs_background": "light"
     },
     "output_type": "display_data"
    }
   ],
   "source": [
    "# Show performance in last epochs\n",
    "hist = pd.DataFrame(history.history)\n",
    "hist['epoch'] = history.epoch\n",
    "hist.tail()\n",
    "\n",
    "# Plot loss\n",
    "plot_loss(history, ylim=2000000)"
   ]
  },
  {
   "cell_type": "code",
   "execution_count": 34,
   "id": "76517c00-5e2e-4125-81e0-e1cc195143b6",
   "metadata": {},
   "outputs": [
    {
     "name": "stderr",
     "output_type": "stream",
     "text": [
      "The PostScript backend does not support transparency; partially transparent artists will be rendered opaque.\n"
     ]
    },
    {
     "data": {
      "image/png": "[encoded data removed]",
      "text/plain": [
       "<Figure size 720x432 with 1 Axes>"
      ]
     },
     "metadata": {
      "needs_background": "light"
     },
     "output_type": "display_data"
    }
   ],
   "source": [
    "# plot in high quality\n",
    "\n",
    "fig, ax = plt.subplots(1, figsize=(10,6))\n",
    "\n",
    "plt.plot(history.history['loss'], label='loss')\n",
    "plt.plot(history.history['val_loss'], label='val_loss')\n",
    "plt.ylim([0, 2000000])\n",
    "plt.xlabel('Epoch', fontsize=16)\n",
    "plt.ylabel('MSE', fontsize=16)\n",
    "plt.legend(fontsize=14)\n",
    "plt.grid(True)\n",
    "plt.ticklabel_format(axis=\"y\", style=\"sci\", scilimits=(0, 0))\n",
    "fig.tight_layout()\n",
    "#plt.savefig('mlp_training.eps', format='eps', pad_inches=0.4)#bbox_inches='tight')\n",
    "plt.show()"
   ]
  },
  {
   "cell_type": "code",
   "execution_count": null,
   "id": "520c1671-2ab3-4ed7-b6c4-a21204218586",
   "metadata": {},
   "outputs": [],
   "source": []
  }
 ],
 "metadata": {
  "kernelspec": {
   "display_name": "Python 3 (ipykernel)",
   "language": "python",
   "name": "python3"
  },
  "language_info": {
   "codemirror_mode": {
    "name": "ipython",
    "version": 3
   },
   "file_extension": ".py",
   "mimetype": "text/x-python",
   "name": "python",
   "nbconvert_exporter": "python",
   "pygments_lexer": "ipython3",
   "version": "3.9.7"
  }
 },
 "nbformat": 4,
 "nbformat_minor": 5
}
